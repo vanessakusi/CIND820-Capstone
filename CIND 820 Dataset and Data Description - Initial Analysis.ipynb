{
 "cells": [
  {
   "cell_type": "markdown",
   "metadata": {},
   "source": [
    "# Import Dataset & Libraries"
   ]
  },
  {
   "cell_type": "code",
   "execution_count": 1,
   "metadata": {},
   "outputs": [],
   "source": [
    "import pandas as pd\n",
    "import seaborn as sns\n",
    "import matplotlib.pyplot as plt\n",
    "import nltk\n",
    "import string\n",
    "from string import punctuation\n",
    "from textblob import TextBlob\n",
    "from wordcloud import WordCloud, STOPWORDS\n",
    "import re"
   ]
  },
  {
   "cell_type": "code",
   "execution_count": 2,
   "metadata": {},
   "outputs": [
    {
     "data": {
      "text/html": [
       "<div>\n",
       "<style scoped>\n",
       "    .dataframe tbody tr th:only-of-type {\n",
       "        vertical-align: middle;\n",
       "    }\n",
       "\n",
       "    .dataframe tbody tr th {\n",
       "        vertical-align: top;\n",
       "    }\n",
       "\n",
       "    .dataframe thead th {\n",
       "        text-align: right;\n",
       "    }\n",
       "</style>\n",
       "<table border=\"1\" class=\"dataframe\">\n",
       "  <thead>\n",
       "    <tr style=\"text-align: right;\">\n",
       "      <th></th>\n",
       "      <th>COMMENT_ID</th>\n",
       "      <th>AUTHOR</th>\n",
       "      <th>DATE</th>\n",
       "      <th>CONTENT</th>\n",
       "      <th>CLASS</th>\n",
       "    </tr>\n",
       "  </thead>\n",
       "  <tbody>\n",
       "    <tr>\n",
       "      <th>0</th>\n",
       "      <td>z13lgffb5w3ddx1ul22qy1wxspy5cpkz504</td>\n",
       "      <td>dharma pal</td>\n",
       "      <td>2015-05-29T02:30:18.971000</td>\n",
       "      <td>Nice song﻿</td>\n",
       "      <td>0</td>\n",
       "    </tr>\n",
       "    <tr>\n",
       "      <th>1</th>\n",
       "      <td>z123dbgb0mqjfxbtz22ucjc5jvzcv3ykj</td>\n",
       "      <td>Tiza Arellano</td>\n",
       "      <td>2015-05-29T00:14:48.748000</td>\n",
       "      <td>I love song ﻿</td>\n",
       "      <td>0</td>\n",
       "    </tr>\n",
       "    <tr>\n",
       "      <th>2</th>\n",
       "      <td>z12quxxp2vutflkxv04cihggzt2azl34pms0k</td>\n",
       "      <td>Prìñçeśś Âliś Łøvê Dømíñø Mâđiś™ ﻿</td>\n",
       "      <td>2015-05-28T21:00:08.607000</td>\n",
       "      <td>I love song ﻿</td>\n",
       "      <td>0</td>\n",
       "    </tr>\n",
       "    <tr>\n",
       "      <th>3</th>\n",
       "      <td>z12icv3ysqvlwth2c23eddlykyqut5z1h</td>\n",
       "      <td>Eric Gonzalez</td>\n",
       "      <td>2015-05-28T20:47:12.193000</td>\n",
       "      <td>860,000,000 lets make it first female to reach...</td>\n",
       "      <td>0</td>\n",
       "    </tr>\n",
       "    <tr>\n",
       "      <th>4</th>\n",
       "      <td>z133stly3kete3tly22petvwdpmghrlli</td>\n",
       "      <td>Analena López</td>\n",
       "      <td>2015-05-28T17:08:29.827000</td>\n",
       "      <td>shakira is best for worldcup﻿</td>\n",
       "      <td>0</td>\n",
       "    </tr>\n",
       "  </tbody>\n",
       "</table>\n",
       "</div>"
      ],
      "text/plain": [
       "                              COMMENT_ID                              AUTHOR  \\\n",
       "0    z13lgffb5w3ddx1ul22qy1wxspy5cpkz504                          dharma pal   \n",
       "1      z123dbgb0mqjfxbtz22ucjc5jvzcv3ykj                       Tiza Arellano   \n",
       "2  z12quxxp2vutflkxv04cihggzt2azl34pms0k  Prìñçeśś Âliś Łøvê Dømíñø Mâđiś™ ﻿   \n",
       "3      z12icv3ysqvlwth2c23eddlykyqut5z1h                       Eric Gonzalez   \n",
       "4      z133stly3kete3tly22petvwdpmghrlli                       Analena López   \n",
       "\n",
       "                         DATE  \\\n",
       "0  2015-05-29T02:30:18.971000   \n",
       "1  2015-05-29T00:14:48.748000   \n",
       "2  2015-05-28T21:00:08.607000   \n",
       "3  2015-05-28T20:47:12.193000   \n",
       "4  2015-05-28T17:08:29.827000   \n",
       "\n",
       "                                             CONTENT  CLASS  \n",
       "0                                         Nice song﻿      0  \n",
       "1                                      I love song ﻿      0  \n",
       "2                                      I love song ﻿      0  \n",
       "3  860,000,000 lets make it first female to reach...      0  \n",
       "4                      shakira is best for worldcup﻿      0  "
      ]
     },
     "execution_count": 2,
     "metadata": {},
     "output_type": "execute_result"
    }
   ],
   "source": [
    "shakira = pd.read_csv('Youtube05-Shakira.csv',encoding='utf-8-sig')\n",
    "shakira.head()"
   ]
  },
  {
   "cell_type": "markdown",
   "metadata": {},
   "source": [
    "## Attributes"
   ]
  },
  {
   "cell_type": "code",
   "execution_count": 3,
   "metadata": {},
   "outputs": [
    {
     "data": {
      "text/plain": [
       "(370, 5)"
      ]
     },
     "execution_count": 3,
     "metadata": {},
     "output_type": "execute_result"
    }
   ],
   "source": [
    "shakira.shape"
   ]
  },
  {
   "cell_type": "markdown",
   "metadata": {},
   "source": [
    "There are 370 observations and 5 attributes"
   ]
  },
  {
   "cell_type": "code",
   "execution_count": 3,
   "metadata": {},
   "outputs": [
    {
     "data": {
      "text/plain": [
       "COMMENT_ID    object\n",
       "AUTHOR        object\n",
       "DATE          object\n",
       "CONTENT       object\n",
       "CLASS          int64\n",
       "dtype: object"
      ]
     },
     "execution_count": 3,
     "metadata": {},
     "output_type": "execute_result"
    }
   ],
   "source": [
    "shakira.dtypes"
   ]
  },
  {
   "cell_type": "code",
   "execution_count": 3,
   "metadata": {},
   "outputs": [
    {
     "data": {
      "text/html": [
       "<div>\n",
       "<style scoped>\n",
       "    .dataframe tbody tr th:only-of-type {\n",
       "        vertical-align: middle;\n",
       "    }\n",
       "\n",
       "    .dataframe tbody tr th {\n",
       "        vertical-align: top;\n",
       "    }\n",
       "\n",
       "    .dataframe thead th {\n",
       "        text-align: right;\n",
       "    }\n",
       "</style>\n",
       "<table border=\"1\" class=\"dataframe\">\n",
       "  <thead>\n",
       "    <tr style=\"text-align: right;\">\n",
       "      <th></th>\n",
       "      <th>COMMENT_ID</th>\n",
       "      <th>AUTHOR</th>\n",
       "      <th>DATE</th>\n",
       "      <th>CONTENT</th>\n",
       "      <th>CLASS</th>\n",
       "    </tr>\n",
       "  </thead>\n",
       "  <tbody>\n",
       "    <tr>\n",
       "      <th>0</th>\n",
       "      <td>z13lgffb5w3ddx1ul22qy1wxspy5cpkz504</td>\n",
       "      <td>dharma pal</td>\n",
       "      <td>2015-05-29 02:30:18.971</td>\n",
       "      <td>Nice song﻿</td>\n",
       "      <td>0</td>\n",
       "    </tr>\n",
       "    <tr>\n",
       "      <th>1</th>\n",
       "      <td>z123dbgb0mqjfxbtz22ucjc5jvzcv3ykj</td>\n",
       "      <td>Tiza Arellano</td>\n",
       "      <td>2015-05-29 00:14:48.748</td>\n",
       "      <td>I love song ﻿</td>\n",
       "      <td>0</td>\n",
       "    </tr>\n",
       "    <tr>\n",
       "      <th>2</th>\n",
       "      <td>z12quxxp2vutflkxv04cihggzt2azl34pms0k</td>\n",
       "      <td>Prìñçeśś Âliś Łøvê Dømíñø Mâđiś™ ﻿</td>\n",
       "      <td>2015-05-28 21:00:08.607</td>\n",
       "      <td>I love song ﻿</td>\n",
       "      <td>0</td>\n",
       "    </tr>\n",
       "    <tr>\n",
       "      <th>3</th>\n",
       "      <td>z12icv3ysqvlwth2c23eddlykyqut5z1h</td>\n",
       "      <td>Eric Gonzalez</td>\n",
       "      <td>2015-05-28 20:47:12.193</td>\n",
       "      <td>860,000,000 lets make it first female to reach...</td>\n",
       "      <td>0</td>\n",
       "    </tr>\n",
       "    <tr>\n",
       "      <th>4</th>\n",
       "      <td>z133stly3kete3tly22petvwdpmghrlli</td>\n",
       "      <td>Analena López</td>\n",
       "      <td>2015-05-28 17:08:29.827</td>\n",
       "      <td>shakira is best for worldcup﻿</td>\n",
       "      <td>0</td>\n",
       "    </tr>\n",
       "  </tbody>\n",
       "</table>\n",
       "</div>"
      ],
      "text/plain": [
       "                              COMMENT_ID                              AUTHOR  \\\n",
       "0    z13lgffb5w3ddx1ul22qy1wxspy5cpkz504                          dharma pal   \n",
       "1      z123dbgb0mqjfxbtz22ucjc5jvzcv3ykj                       Tiza Arellano   \n",
       "2  z12quxxp2vutflkxv04cihggzt2azl34pms0k  Prìñçeśś Âliś Łøvê Dømíñø Mâđiś™ ﻿   \n",
       "3      z12icv3ysqvlwth2c23eddlykyqut5z1h                       Eric Gonzalez   \n",
       "4      z133stly3kete3tly22petvwdpmghrlli                       Analena López   \n",
       "\n",
       "                     DATE                                            CONTENT  \\\n",
       "0 2015-05-29 02:30:18.971                                         Nice song﻿   \n",
       "1 2015-05-29 00:14:48.748                                      I love song ﻿   \n",
       "2 2015-05-28 21:00:08.607                                      I love song ﻿   \n",
       "3 2015-05-28 20:47:12.193  860,000,000 lets make it first female to reach...   \n",
       "4 2015-05-28 17:08:29.827                      shakira is best for worldcup﻿   \n",
       "\n",
       "   CLASS  \n",
       "0      0  \n",
       "1      0  \n",
       "2      0  \n",
       "3      0  \n",
       "4      0  "
      ]
     },
     "execution_count": 3,
     "metadata": {},
     "output_type": "execute_result"
    }
   ],
   "source": [
    "shakira['DATE']=shakira['DATE'].astype('datetime64[ns]')\n",
    "shakira.head()"
   ]
  },
  {
   "cell_type": "markdown",
   "metadata": {},
   "source": [
    "All the attributes except for Class are measured as an object. Class is a categorical variable because it represents spam vs non-spam, however it doesn't need to be converted from integer to object because the classifer that will be used later on in the project needs the variable to be measured as an integer. Date is also read as an object, however I converted it to datetime to be more accurate."
   ]
  },
  {
   "cell_type": "code",
   "execution_count": 13,
   "metadata": {},
   "outputs": [
    {
     "name": "stderr",
     "output_type": "stream",
     "text": [
      "C:\\Users\\Vanessa\\Anaconda3\\lib\\site-packages\\ipykernel_launcher.py:1: FutureWarning: Treating datetime data as categorical rather than numeric in `.describe` is deprecated and will be removed in a future version of pandas. Specify `datetime_is_numeric=True` to silence this warning and adopt the future behavior now.\n",
      "  \"\"\"Entry point for launching an IPython kernel.\n"
     ]
    },
    {
     "data": {
      "text/html": [
       "<div>\n",
       "<style scoped>\n",
       "    .dataframe tbody tr th:only-of-type {\n",
       "        vertical-align: middle;\n",
       "    }\n",
       "\n",
       "    .dataframe tbody tr th {\n",
       "        vertical-align: top;\n",
       "    }\n",
       "\n",
       "    .dataframe thead th {\n",
       "        text-align: right;\n",
       "    }\n",
       "</style>\n",
       "<table border=\"1\" class=\"dataframe\">\n",
       "  <thead>\n",
       "    <tr style=\"text-align: right;\">\n",
       "      <th></th>\n",
       "      <th>COMMENT_ID</th>\n",
       "      <th>AUTHOR</th>\n",
       "      <th>DATE</th>\n",
       "      <th>CONTENT</th>\n",
       "      <th>CLASS</th>\n",
       "    </tr>\n",
       "  </thead>\n",
       "  <tbody>\n",
       "    <tr>\n",
       "      <th>count</th>\n",
       "      <td>370</td>\n",
       "      <td>370</td>\n",
       "      <td>370</td>\n",
       "      <td>370</td>\n",
       "      <td>370.000000</td>\n",
       "    </tr>\n",
       "    <tr>\n",
       "      <th>unique</th>\n",
       "      <td>369</td>\n",
       "      <td>319</td>\n",
       "      <td>369</td>\n",
       "      <td>331</td>\n",
       "      <td>NaN</td>\n",
       "    </tr>\n",
       "    <tr>\n",
       "      <th>top</th>\n",
       "      <td>_2viQ_Qnc68fX3dYsfYuM-m4ELMJvxOQBmBOFHqGOk0</td>\n",
       "      <td>Shadrach Grentz</td>\n",
       "      <td>2013-10-05 00:57:25.078000</td>\n",
       "      <td>Hey Music Fans I really appreciate any of you ...</td>\n",
       "      <td>NaN</td>\n",
       "    </tr>\n",
       "    <tr>\n",
       "      <th>freq</th>\n",
       "      <td>2</td>\n",
       "      <td>7</td>\n",
       "      <td>2</td>\n",
       "      <td>4</td>\n",
       "      <td>NaN</td>\n",
       "    </tr>\n",
       "    <tr>\n",
       "      <th>first</th>\n",
       "      <td>NaN</td>\n",
       "      <td>NaN</td>\n",
       "      <td>2013-07-12 22:33:27.916000</td>\n",
       "      <td>NaN</td>\n",
       "      <td>NaN</td>\n",
       "    </tr>\n",
       "    <tr>\n",
       "      <th>last</th>\n",
       "      <td>NaN</td>\n",
       "      <td>NaN</td>\n",
       "      <td>2015-05-29 02:30:18.971000</td>\n",
       "      <td>NaN</td>\n",
       "      <td>NaN</td>\n",
       "    </tr>\n",
       "    <tr>\n",
       "      <th>mean</th>\n",
       "      <td>NaN</td>\n",
       "      <td>NaN</td>\n",
       "      <td>NaN</td>\n",
       "      <td>NaN</td>\n",
       "      <td>0.470270</td>\n",
       "    </tr>\n",
       "    <tr>\n",
       "      <th>std</th>\n",
       "      <td>NaN</td>\n",
       "      <td>NaN</td>\n",
       "      <td>NaN</td>\n",
       "      <td>NaN</td>\n",
       "      <td>0.499791</td>\n",
       "    </tr>\n",
       "    <tr>\n",
       "      <th>min</th>\n",
       "      <td>NaN</td>\n",
       "      <td>NaN</td>\n",
       "      <td>NaN</td>\n",
       "      <td>NaN</td>\n",
       "      <td>0.000000</td>\n",
       "    </tr>\n",
       "    <tr>\n",
       "      <th>25%</th>\n",
       "      <td>NaN</td>\n",
       "      <td>NaN</td>\n",
       "      <td>NaN</td>\n",
       "      <td>NaN</td>\n",
       "      <td>0.000000</td>\n",
       "    </tr>\n",
       "    <tr>\n",
       "      <th>50%</th>\n",
       "      <td>NaN</td>\n",
       "      <td>NaN</td>\n",
       "      <td>NaN</td>\n",
       "      <td>NaN</td>\n",
       "      <td>0.000000</td>\n",
       "    </tr>\n",
       "    <tr>\n",
       "      <th>75%</th>\n",
       "      <td>NaN</td>\n",
       "      <td>NaN</td>\n",
       "      <td>NaN</td>\n",
       "      <td>NaN</td>\n",
       "      <td>1.000000</td>\n",
       "    </tr>\n",
       "    <tr>\n",
       "      <th>max</th>\n",
       "      <td>NaN</td>\n",
       "      <td>NaN</td>\n",
       "      <td>NaN</td>\n",
       "      <td>NaN</td>\n",
       "      <td>1.000000</td>\n",
       "    </tr>\n",
       "  </tbody>\n",
       "</table>\n",
       "</div>"
      ],
      "text/plain": [
       "                                         COMMENT_ID           AUTHOR  \\\n",
       "count                                           370              370   \n",
       "unique                                          369              319   \n",
       "top     _2viQ_Qnc68fX3dYsfYuM-m4ELMJvxOQBmBOFHqGOk0  Shadrach Grentz   \n",
       "freq                                              2                7   \n",
       "first                                           NaN              NaN   \n",
       "last                                            NaN              NaN   \n",
       "mean                                            NaN              NaN   \n",
       "std                                             NaN              NaN   \n",
       "min                                             NaN              NaN   \n",
       "25%                                             NaN              NaN   \n",
       "50%                                             NaN              NaN   \n",
       "75%                                             NaN              NaN   \n",
       "max                                             NaN              NaN   \n",
       "\n",
       "                              DATE  \\\n",
       "count                          370   \n",
       "unique                         369   \n",
       "top     2013-10-05 00:57:25.078000   \n",
       "freq                             2   \n",
       "first   2013-07-12 22:33:27.916000   \n",
       "last    2015-05-29 02:30:18.971000   \n",
       "mean                           NaN   \n",
       "std                            NaN   \n",
       "min                            NaN   \n",
       "25%                            NaN   \n",
       "50%                            NaN   \n",
       "75%                            NaN   \n",
       "max                            NaN   \n",
       "\n",
       "                                                  CONTENT       CLASS  \n",
       "count                                                 370  370.000000  \n",
       "unique                                                331         NaN  \n",
       "top     Hey Music Fans I really appreciate any of you ...         NaN  \n",
       "freq                                                    4         NaN  \n",
       "first                                                 NaN         NaN  \n",
       "last                                                  NaN         NaN  \n",
       "mean                                                  NaN    0.470270  \n",
       "std                                                   NaN    0.499791  \n",
       "min                                                   NaN    0.000000  \n",
       "25%                                                   NaN    0.000000  \n",
       "50%                                                   NaN    0.000000  \n",
       "75%                                                   NaN    1.000000  \n",
       "max                                                   NaN    1.000000  "
      ]
     },
     "execution_count": 13,
     "metadata": {},
     "output_type": "execute_result"
    }
   ],
   "source": [
    "shakira.describe(include='all')"
   ]
  },
  {
   "cell_type": "markdown",
   "metadata": {},
   "source": [
    "From the summary of all the attributes you can already see in that in Content  there are comments that appear multiple times which could be an indicator of spam. There is also at leat 1 Authour that posts multiple comments which is also an indicator of spam. The dataset also has a Comment_ID which appears twice which could be a duplicate.  "
   ]
  },
  {
   "cell_type": "markdown",
   "metadata": {},
   "source": [
    "## Looking for Duplicates"
   ]
  },
  {
   "cell_type": "code",
   "execution_count": 14,
   "metadata": {},
   "outputs": [
    {
     "name": "stdout",
     "output_type": "stream",
     "text": [
      "Total Number of Comment_IDs: 370\n",
      "Total Number of Unique Comment_IDs: 369\n"
     ]
    }
   ],
   "source": [
    "print(\"Total Number of Comment_IDs:\",shakira.AUTHOR.shape[0])\n",
    "print(\"Total Number of Unique Comment_IDs:\" , shakira['COMMENT_ID'].nunique())"
   ]
  },
  {
   "cell_type": "code",
   "execution_count": 15,
   "metadata": {},
   "outputs": [
    {
     "name": "stdout",
     "output_type": "stream",
     "text": [
      "                                      COMMENT_ID          AUTHOR  \\\n",
      "212  _2viQ_Qnc68fX3dYsfYuM-m4ELMJvxOQBmBOFHqGOk0  tyler sleetway   \n",
      "\n",
      "                       DATE      CONTENT  CLASS  \n",
      "212 2013-10-05 00:57:25.078  so beutiful      0  \n"
     ]
    }
   ],
   "source": [
    "duplicated_row = shakira[shakira.duplicated()]\n",
    "print(duplicated_row)\n",
    "#passes over the first occurance of the duplicate and prints the second occurance"
   ]
  },
  {
   "cell_type": "code",
   "execution_count": 16,
   "metadata": {},
   "outputs": [
    {
     "data": {
      "text/html": [
       "<div>\n",
       "<style scoped>\n",
       "    .dataframe tbody tr th:only-of-type {\n",
       "        vertical-align: middle;\n",
       "    }\n",
       "\n",
       "    .dataframe tbody tr th {\n",
       "        vertical-align: top;\n",
       "    }\n",
       "\n",
       "    .dataframe thead th {\n",
       "        text-align: right;\n",
       "    }\n",
       "</style>\n",
       "<table border=\"1\" class=\"dataframe\">\n",
       "  <thead>\n",
       "    <tr style=\"text-align: right;\">\n",
       "      <th></th>\n",
       "      <th>COMMENT_ID</th>\n",
       "      <th>AUTHOR</th>\n",
       "      <th>DATE</th>\n",
       "      <th>CONTENT</th>\n",
       "      <th>CLASS</th>\n",
       "    </tr>\n",
       "  </thead>\n",
       "  <tbody>\n",
       "    <tr>\n",
       "      <th>211</th>\n",
       "      <td>_2viQ_Qnc68fX3dYsfYuM-m4ELMJvxOQBmBOFHqGOk0</td>\n",
       "      <td>tyler sleetway</td>\n",
       "      <td>2013-10-05 00:57:25.078</td>\n",
       "      <td>so beutiful</td>\n",
       "      <td>0</td>\n",
       "    </tr>\n",
       "    <tr>\n",
       "      <th>212</th>\n",
       "      <td>_2viQ_Qnc68fX3dYsfYuM-m4ELMJvxOQBmBOFHqGOk0</td>\n",
       "      <td>tyler sleetway</td>\n",
       "      <td>2013-10-05 00:57:25.078</td>\n",
       "      <td>so beutiful</td>\n",
       "      <td>0</td>\n",
       "    </tr>\n",
       "  </tbody>\n",
       "</table>\n",
       "</div>"
      ],
      "text/plain": [
       "                                      COMMENT_ID          AUTHOR  \\\n",
       "211  _2viQ_Qnc68fX3dYsfYuM-m4ELMJvxOQBmBOFHqGOk0  tyler sleetway   \n",
       "212  _2viQ_Qnc68fX3dYsfYuM-m4ELMJvxOQBmBOFHqGOk0  tyler sleetway   \n",
       "\n",
       "                       DATE      CONTENT  CLASS  \n",
       "211 2013-10-05 00:57:25.078  so beutiful      0  \n",
       "212 2013-10-05 00:57:25.078  so beutiful      0  "
      ]
     },
     "execution_count": 16,
     "metadata": {},
     "output_type": "execute_result"
    }
   ],
   "source": [
    "shakira.loc[(shakira['COMMENT_ID']=='_2viQ_Qnc68fX3dYsfYuM-m4ELMJvxOQBmBOFHqGOk0')]"
   ]
  },
  {
   "cell_type": "code",
   "execution_count": 4,
   "metadata": {},
   "outputs": [
    {
     "data": {
      "text/plain": [
       "(369, 5)"
      ]
     },
     "execution_count": 4,
     "metadata": {},
     "output_type": "execute_result"
    }
   ],
   "source": [
    "shakira = shakira.drop([212])\n",
    "#removed the duplicate\n",
    "shakira.shape\n",
    "#current shape of the dataset"
   ]
  },
  {
   "cell_type": "markdown",
   "metadata": {},
   "source": [
    "I choose to remove the duplicate because seems to be a dulicate due to error and not an act of spam because the Class is ham, the comment is related to the video, it was posted at the same exact time and the Comment_ID such is suppose to be unique is not."
   ]
  },
  {
   "cell_type": "markdown",
   "metadata": {},
   "source": [
    "## Missing Values"
   ]
  },
  {
   "cell_type": "code",
   "execution_count": 18,
   "metadata": {},
   "outputs": [
    {
     "data": {
      "text/plain": [
       "COMMENT_ID    0\n",
       "AUTHOR        0\n",
       "DATE          0\n",
       "CONTENT       0\n",
       "CLASS         0\n",
       "dtype: int64"
      ]
     },
     "execution_count": 18,
     "metadata": {},
     "output_type": "execute_result"
    }
   ],
   "source": [
    "shakira.isnull().sum(axis=0)"
   ]
  },
  {
   "cell_type": "markdown",
   "metadata": {},
   "source": [
    "There are no missing values"
   ]
  },
  {
   "cell_type": "markdown",
   "metadata": {},
   "source": [
    "## Imbalance in Data"
   ]
  },
  {
   "cell_type": "code",
   "execution_count": 25,
   "metadata": {},
   "outputs": [
    {
     "data": {
      "text/plain": [
       "([<matplotlib.axis.XTick at 0x27b5a66ba20>,\n",
       "  <matplotlib.axis.XTick at 0x27b5a66b5c0>],\n",
       " [Text(0, 0, 'Ham'), Text(1, 0, 'Spam')])"
      ]
     },
     "execution_count": 25,
     "metadata": {},
     "output_type": "execute_result"
    },
    {
     "data": {
      "image/png": "[encoded data removed]",
      "text/plain": [
       "<Figure size 432x288 with 1 Axes>"
      ]
     },
     "metadata": {
      "needs_background": "light"
     },
     "output_type": "display_data"
    }
   ],
   "source": [
    "sns.countplot(x='CLASS', data= shakira)\n",
    "plt.title(\"Imbalance in Class Attribute\")\n",
    "plt.xticks([0, 1], ['Ham', 'Spam'])"
   ]
  },
  {
   "cell_type": "code",
   "execution_count": 26,
   "metadata": {},
   "outputs": [
    {
     "data": {
      "text/plain": [
       "0    195\n",
       "1    174\n",
       "Name: CLASS, dtype: int64"
      ]
     },
     "execution_count": 26,
     "metadata": {},
     "output_type": "execute_result"
    }
   ],
   "source": [
    "shakira['CLASS'].value_counts()"
   ]
  },
  {
   "cell_type": "code",
   "execution_count": 44,
   "metadata": {},
   "outputs": [
    {
     "name": "stdout",
     "output_type": "stream",
     "text": [
      "Percentage of Ham: 52.85\n",
      "Percentage of Spam: 47.15\n"
     ]
    }
   ],
   "source": [
    "print(\"Percentage of Ham:\",round(((195/shakira.shape[0])*100),2))\n",
    "print(\"Percentage of Spam:\",round(((174/shakira.shape[0])*100),2))"
   ]
  },
  {
   "cell_type": "markdown",
   "metadata": {},
   "source": [
    "The data is balanced"
   ]
  },
  {
   "cell_type": "markdown",
   "metadata": {},
   "source": [
    "## Text Preprocessing"
   ]
  },
  {
   "cell_type": "code",
   "execution_count": 5,
   "metadata": {},
   "outputs": [],
   "source": [
    "content = shakira['CONTENT']\n",
    "#Separate the comments from the dataset"
   ]
  },
  {
   "cell_type": "code",
   "execution_count": 6,
   "metadata": {},
   "outputs": [
    {
     "data": {
      "text/plain": [
       "'Nice song\\ufeff I love song \\ufeff I love song \\ufeff 860,000,000 lets make it first female to reach one billion!! Share it and replay it! \\ufeff shakira is best for worldcup\\ufeff The best world cup song ever!!!!\\ufeff I love\\ufeff SE'"
      ]
     },
     "execution_count": 6,
     "metadata": {},
     "output_type": "execute_result"
    }
   ],
   "source": [
    "comments = \" \".join(comment for comment in content)\n",
    "comments[:200]\n",
    "#Convert to a string"
   ]
  },
  {
   "cell_type": "code",
   "execution_count": 7,
   "metadata": {},
   "outputs": [
    {
     "name": "stdout",
     "output_type": "stream",
     "text": [
      "['Nice', 'song\\ufeff', 'I', 'love', 'song', '\\ufeff', 'I', 'love', 'song', '\\ufeff', '860,000,000', 'lets', 'make', 'it', 'first', 'female', 'to', 'reach', 'one', 'billion!!', 'Share', 'it', 'and', 'replay', 'it!', '\\ufeff', 'shakira', 'is', 'best', 'for', 'worldcup\\ufeff', 'The', 'best', 'world', 'cup', 'song', 'ever!!!!\\ufeff', 'I', 'love\\ufeff', 'SEE', 'SOME', 'MORE', 'SONG', 'OPEN', 'GOOGLE', 'AND', 'TYPE', 'Shakira', 'GuruOfMovie\\ufeff', 'Awesome', '\\ufeff', 'I', 'like', 'shakira..\\ufeff', 'Shakira', '-', 'Waka', 'Waka', '<br', '/>LOVE', 'THIS', 'SONG!!!!!!!!!!!!!!!\\ufeff', 'Why', 'so', 'many', 'disliked??????!!!!!!😯\\ufeff', 'I', 'don&#39;t', 'think', 'this', 'song', 'will', 'ever', 'get', 'old', '\\ufeff', 'Love', 'song\\ufeff', 'wery', 'good\\ufeff', 'Every', 'time', 'I', 'hear', 'this', 'song,', 'I', 'think', 'about', 'Iniesta&#39;s', 'goal', 'against', 'the', 'Netherlands...\\ufeff', 'Whose', 'watching', 'this', 'in', '2015.', 'If', 'so', 'hi-5\\ufeff', 'I', 'love', 'this', 'song', 'so', 'much', '&lt;3<br', '/>Keep', 'em&#39;', 'coming!\\ufeff', 'i', 'love', 'this', 'song', 'thumsb', 'up', 'to', 'you\\ufeff', 'Waka', 'best', 'one\\ufeff', '5', 'years', 'later', 'i', 'still', 'love', 'this', 'song', '<br', '/>~Axy665\\ufeff', 'Like\\ufeff', 'Check', 'out', 'this', 'playlist', 'on', 'YouTube:\\ufeff', 'Her', 'voice', 'sounds', 'weird', 'and', 'plus', 'she&#39;s', 'cute', 'for', 'a', 'blonde\\ufeff', 'Why', 'there', 'are', 'so', 'many', 'dislikes.', 'This', 'song', 'is', 'so...', 'awesome.', 'It', 'sounds', 'like', 'we', 'MUST', 'STOP', 'BE', 'RACISTS!!!', 'If', 'I', 'could,', 'I', 'would', 'like', 'it', '1,000,000,000', 'times!!!!!!!!!!!!!!!!!!!!!!!!!!!!!!!!!!!!!!!!!!!!!!\\ufeff', 'Nice', 'love', 'itttttttt', 'wurkkkkkkkkkkkkkkkkkkkkkkkkkkkkkkkkkkkkkkkkkkkkkkkkkkkkkkkkkkkkkkkkkkkkkkkkkkkkkkkkkkkkkkkkkkkkkkkkkkkkk\\ufeff', 'still', 'watching', 'in', '2015...\\ufeff', 'Shakira', 'is', 'my', 'favourite', 'singer.', 'Wooooo\\ufeff', 'i', 'remember', 'this', 'song!', 'Like\\ufeff', 'Whose', 'who']\n"
     ]
    }
   ],
   "source": [
    "comments = comments.split()\n",
    "print(comments[:200])\n",
    "#Tokenize the words"
   ]
  },
  {
   "cell_type": "code",
   "execution_count": 8,
   "metadata": {},
   "outputs": [
    {
     "name": "stdout",
     "output_type": "stream",
     "text": [
      "!\"#$%&'()*+,-./:;<=>?@[\\]^_`{|}~\n"
     ]
    }
   ],
   "source": [
    "print(string.punctuation)\n",
    "table = str.maketrans('', '', string.punctuation)"
   ]
  },
  {
   "cell_type": "code",
   "execution_count": 9,
   "metadata": {},
   "outputs": [
    {
     "name": "stdout",
     "output_type": "stream",
     "text": [
      "['Nice', 'song\\ufeff', 'I', 'love', 'song', '\\ufeff', 'I', 'love', 'song', '\\ufeff', '860000000', 'lets', 'make', 'it', 'first', 'female', 'to', 'reach', 'one', 'billion', 'Share', 'it', 'and', 'replay', 'it', '\\ufeff', 'shakira', 'is', 'best', 'for', 'worldcup\\ufeff', 'The', 'best', 'world', 'cup', 'song', 'ever\\ufeff', 'I', 'love\\ufeff', 'SEE', 'SOME', 'MORE', 'SONG', 'OPEN', 'GOOGLE', 'AND', 'TYPE', 'Shakira', 'GuruOfMovie\\ufeff', 'Awesome', '\\ufeff', 'I', 'like', 'shakira\\ufeff', 'Shakira', '', 'Waka', 'Waka', 'br', 'LOVE', 'THIS', 'SONG\\ufeff', 'Why', 'so', 'many', 'disliked😯\\ufeff', 'I', 'don39t', 'think', 'this', 'song', 'will', 'ever', 'get', 'old', '\\ufeff', 'Love', 'song\\ufeff', 'wery', 'good\\ufeff', 'Every', 'time', 'I', 'hear', 'this', 'song', 'I', 'think', 'about', 'Iniesta39s', 'goal', 'against', 'the', 'Netherlands\\ufeff', 'Whose', 'watching', 'this', 'in', '2015', 'If']\n"
     ]
    }
   ],
   "source": [
    "comments = [c.translate(table) for c in comments]\n",
    "print(comments[:100])\n",
    "#remove punctutation"
   ]
  },
  {
   "cell_type": "code",
   "execution_count": 10,
   "metadata": {},
   "outputs": [
    {
     "name": "stdout",
     "output_type": "stream",
     "text": [
      "['nice', 'song\\ufeff', 'i', 'love', 'song', '\\ufeff', 'i', 'love', 'song', '\\ufeff', '860000000', 'lets', 'make', 'it', 'first', 'female', 'to', 'reach', 'one', 'billion', 'share', 'it', 'and', 'replay', 'it', '\\ufeff', 'shakira', 'is', 'best', 'for', 'worldcup\\ufeff', 'the', 'best', 'world', 'cup', 'song', 'ever\\ufeff', 'i', 'love\\ufeff', 'see', 'some', 'more', 'song', 'open', 'google', 'and', 'type', 'shakira', 'guruofmovie\\ufeff', 'awesome', '\\ufeff', 'i', 'like', 'shakira\\ufeff', 'shakira', '', 'waka', 'waka', 'br', 'love', 'this', 'song\\ufeff', 'why', 'so', 'many', 'disliked😯\\ufeff', 'i', 'don39t', 'think', 'this', 'song', 'will', 'ever', 'get', 'old', '\\ufeff', 'love', 'song\\ufeff', 'wery', 'good\\ufeff', 'every', 'time', 'i', 'hear', 'this', 'song', 'i', 'think', 'about', 'iniesta39s', 'goal', 'against', 'the', 'netherlands\\ufeff', 'whose', 'watching', 'this', 'in', '2015', 'if', 'so', 'hi5\\ufeff', 'i', 'love', 'this', 'song', 'so', 'much', 'lt3br', 'keep', 'em39', 'coming\\ufeff', 'i', 'love', 'this', 'song', 'thumsb', 'up', 'to', 'you\\ufeff', 'waka', 'best', 'one\\ufeff', '5', 'years', 'later', 'i', 'still', 'love', 'this', 'song', 'br', 'axy665\\ufeff', 'like\\ufeff', 'check', 'out', 'this', 'playlist', 'on', 'youtube\\ufeff', 'her', 'voice', 'sounds', 'weird', 'and', 'plus', 'she39s', 'cute', 'for', 'a', 'blonde\\ufeff', 'why', 'there', 'are', 'so', 'many', 'dislikes', 'this', 'song', 'is', 'so', 'awesome', 'it', 'sounds', 'like', 'we', 'must', 'stop', 'be', 'racists', 'if', 'i', 'could', 'i', 'would', 'like', 'it', '1000000000', 'times\\ufeff', 'nice', 'love', 'itttttttt', 'wurkkkkkkkkkkkkkkkkkkkkkkkkkkkkkkkkkkkkkkkkkkkkkkkkkkkkkkkkkkkkkkkkkkkkkkkkkkkkkkkkkkkkkkkkkkkkkkkkkkkkk\\ufeff', 'still', 'watching', 'in', '2015\\ufeff', 'shakira', 'is', 'my', 'favourite', 'singer', 'wooooo\\ufeff', 'i', 'remember', 'this', 'song', 'like\\ufeff', 'whose', 'who']\n"
     ]
    }
   ],
   "source": [
    "comments = [c.lower() for c in comments]\n",
    "print(comments[:200])\n",
    "#convert all text to lowercase"
   ]
  },
  {
   "cell_type": "code",
   "execution_count": 11,
   "metadata": {},
   "outputs": [
    {
     "name": "stdout",
     "output_type": "stream",
     "text": [
      "['i', 'me', 'my', 'myself', 'we', 'our', 'ours', 'ourselves', 'you', \"you're\", \"you've\", \"you'll\", \"you'd\", 'your', 'yours', 'yourself', 'yourselves', 'he', 'him', 'his', 'himself', 'she', \"she's\", 'her', 'hers', 'herself', 'it', \"it's\", 'its', 'itself', 'they', 'them', 'their', 'theirs', 'themselves', 'what', 'which', 'who', 'whom', 'this', 'that', \"that'll\", 'these', 'those', 'am', 'is', 'are', 'was', 'were', 'be', 'been', 'being', 'have', 'has', 'had', 'having', 'do', 'does', 'did', 'doing', 'a', 'an', 'the', 'and', 'but', 'if', 'or', 'because', 'as', 'until', 'while', 'of', 'at', 'by', 'for', 'with', 'about', 'against', 'between', 'into', 'through', 'during', 'before', 'after', 'above', 'below', 'to', 'from', 'up', 'down', 'in', 'out', 'on', 'off', 'over', 'under', 'again', 'further', 'then', 'once', 'here', 'there', 'when', 'where', 'why', 'how', 'all', 'any', 'both', 'each', 'few', 'more', 'most', 'other', 'some', 'such', 'no', 'nor', 'not', 'only', 'own', 'same', 'so', 'than', 'too', 'very', 's', 't', 'can', 'will', 'just', 'don', \"don't\", 'should', \"should've\", 'now', 'd', 'll', 'm', 'o', 're', 've', 'y', 'ain', 'aren', \"aren't\", 'couldn', \"couldn't\", 'didn', \"didn't\", 'doesn', \"doesn't\", 'hadn', \"hadn't\", 'hasn', \"hasn't\", 'haven', \"haven't\", 'isn', \"isn't\", 'ma', 'mightn', \"mightn't\", 'mustn', \"mustn't\", 'needn', \"needn't\", 'shan', \"shan't\", 'shouldn', \"shouldn't\", 'wasn', \"wasn't\", 'weren', \"weren't\", 'won', \"won't\", 'wouldn', \"wouldn't\"]\n"
     ]
    }
   ],
   "source": [
    "from nltk.corpus import stopwords\n",
    "stop_words = stopwords.words('english')\n",
    "print(stop_words)"
   ]
  },
  {
   "cell_type": "code",
   "execution_count": 12,
   "metadata": {},
   "outputs": [
    {
     "name": "stdout",
     "output_type": "stream",
     "text": [
      "['nice', 'song\\ufeff', 'love', 'song', '\\ufeff', 'love', 'song', '\\ufeff', '860000000', 'lets', 'make', 'first', 'female', 'reach', 'one', 'billion', 'share', 'replay', '\\ufeff', 'shakira', 'best', 'worldcup\\ufeff', 'best', 'world', 'cup', 'song', 'ever\\ufeff', 'love\\ufeff', 'see', 'song', 'open', 'google', 'type', 'shakira', 'guruofmovie\\ufeff', 'awesome', '\\ufeff', 'like', 'shakira\\ufeff', 'shakira', '', 'waka', 'waka', 'br', 'love', 'song\\ufeff', 'many', 'disliked😯\\ufeff', 'don39t', 'think', 'song', 'ever', 'get', 'old', '\\ufeff', 'love', 'song\\ufeff', 'wery', 'good\\ufeff', 'every', 'time', 'hear', 'song', 'think', 'iniesta39s', 'goal', 'netherlands\\ufeff', 'whose', 'watching', '2015', 'hi5\\ufeff', 'love', 'song', 'much', 'lt3br', 'keep', 'em39', 'coming\\ufeff', 'love', 'song', 'thumsb', 'you\\ufeff', 'waka', 'best', 'one\\ufeff', '5', 'years', 'later', 'still', 'love', 'song', 'br', 'axy665\\ufeff', 'like\\ufeff', 'check', 'playlist', 'youtube\\ufeff', 'voice', 'sounds', 'weird']\n"
     ]
    }
   ],
   "source": [
    "comments = [c for c in comments if not c in stop_words]\n",
    "print(comments[:100])\n",
    "#remove stopwords"
   ]
  },
  {
   "cell_type": "code",
   "execution_count": 13,
   "metadata": {},
   "outputs": [
    {
     "data": {
      "text/plain": [
       "'nice,song\\ufeff,love,song,\\ufeff,love,song,\\ufeff,860000000,lets,make,first,female,reach,one,billion,share,replay,\\ufeff,shakira,best,worldcup\\ufeff,best,world,cup,song,ever\\ufeff,love\\ufeff,see,song,open,google,type,shakira,guruofmovi'"
      ]
     },
     "execution_count": 13,
     "metadata": {},
     "output_type": "execute_result"
    }
   ],
   "source": [
    "comments = ','.join(comments)\n",
    "comments[:200]"
   ]
  },
  {
   "cell_type": "code",
   "execution_count": 14,
   "metadata": {},
   "outputs": [
    {
     "name": "stdout",
     "output_type": "stream",
     "text": [
      "nice,song﻿,love,song,﻿,love,song,﻿,860000000,lets,make,first,female,reach,one,billion,share,replay,﻿,shakira,best,worldcup﻿,best,world,cup,song,ever﻿,love﻿,see,song,open,google,type,shakira,guruofmovie﻿,awesome,﻿,like,shakira﻿,shakira,,waka,waka,br,love,song﻿,many,disliked﻿,don39t,think,song,ever,get,old,﻿,love,song﻿,wery,good﻿,every,time,hear,song,think,iniesta39s,goal,netherlands﻿,whose,watching,2015,hi5﻿,love,song,much,lt3br,keep,em39,coming﻿,love,song,thumsb,you﻿,waka,best,one﻿,5,years,later,still,love,song,br,axy665﻿,like﻿,check,playlist,youtube﻿,voice,sounds,weird,plus,she39s,cute,blonde﻿,many,dislikes,song,awesome,sounds,like,must,stop,racists,could,would,like,1000000000,times﻿,nice,love,itttttttt,wurkkkkkkkkkkkkkkkkkkkkkkkkkkkkkkkkkkkkkkkkkkkkkkkkkkkkkkkkkkkkkkkkkkkkkkkkkkkkkkkkkkkkkkkkkkkkkkkkkkkkk﻿,still,watching,2015﻿,shakira,favourite,singer,wooooo﻿,remember,song,like﻿,whose,watching,2015,like﻿,support,fight,4th,amendment,right,privacy,home,stop,nsa,spying,americans,un,patriot,act,renewal,rand,paul,spent,105,hours,senate,floor,protest,filibuster,fighting,constitution,nation,founded,join,fight,rand,paul,dot,com,spread,word,someone,cares,nation,email,senators,congress,men,women,tell,support,rand,tell,news,support,rand,senator,rand,paul,hrefhttpwwwyoutubecomwatchvprpeedmmmq0ampt1m00s100a,passed,saturday,morning,fighting,constitution,buy,postponing,vote,week,constitution,matters,join,rand,fight,protect,hrefhttpithtithta,privacy,home,business,senator,rand,paul,hrefhttpwwwyoutubecomwatchvprpeedmmmq0ampt1m00s100a,passed,saturday,morning,fighting,constitution,buy,postponing,vote,week,constitution,matters,us,help,rand,protect,joining,fright,it﻿,best,song,world﻿,beautiful,good,song﻿,she39s,awesome,entertainer,pretty,lt3,shakira﻿,check,video,youtube﻿,love,song﻿,love,song,soccer,team,made,cd,couch,song,it﻿,fave,song﻿,watching,2015﻿,felt,old,realized,song,5,years,old﻿,love,shakira﻿,one,best,song,time﻿,really,madly,love,woman﻿,totally,love,song,absolutely,fantastic,love,ya,shakira﻿,im,still,watching,2015﻿,song,sad﻿,goood﻿,best,fifa,world,cup,song,sure﻿,nice,vídeo,shakira,good﻿,coby,usl,past,br,hrefhttpadflyhttpadflya,1hmvtxbr,delete,space,y﻿,see,thisbr,hrefhttpadflyhttpadflya,1hmvtx﻿,waka,waka﻿,beautiful,american﻿,thumbs,watching,2015﻿,ilovethissong﻿,subscribe,please,i39ll,promise,i39ll,sub,back﻿,lamest,world,cup,song,ever,time,africa,mean,africa,wasn39t,live,aid,event,something,made,seem,like,charity,case,instead,proud,moment,ricky,martin,needed,smh﻿,friend,sam,loves,song﻿,check,video,youtube﻿,love,you﻿,help,shakira,become,first,female,hit,1billiom,views,i39ve,decided,watch,video,least,one,day,everyday,shakifans,r,close,hit,replay,button,﻿,ilove,shakira,﻿,cool,best,song,ever,﻿,omg,listen,soo,good,d﻿,uncle,said,stop,smoking,comment,gets,500,likes,please,like,comment,thanks﻿,nice,song﻿,waka,waka﻿,super,music﻿,could,108k,people,dislike,song,video﻿,love,it﻿,swear,shakira,keeps,getting,gorgeous,definitely,looks,gorgeous,hair,way,super,curly﻿,youtube,comments,likebr,5,years,ago,﻿,pisses,bit,blank,space,views,868,mio,meh,﻿,best♣♥﻿,love,p﻿,love,shakira,,❤﻿,song,special,song,africa,african,﻿,lt3,song,muchshakira,really,good,artist﻿,love,shakirabr,❤❤❤❤﻿,definitley,song,2010,im,listening,gypsy,shakira,rocksbr,span,classproflinkwrapperspan,classproflinkprefixspana,classproflink,hrefhttpsplusgooglecom101721377578919894134,oid101721377578919894134shakiravevoaspan﻿,remember,torunament,like,today﻿,thank,please,give,email,﻿,beautiful﻿,like﻿,shakira,beautiful,lovely,lively,love,you﻿,great﻿,best,world,cup,song﻿,fuck,best,ever,0687119038,nummber,patrik,kluivert,son,share,﻿,song,beauty,heard,6,years,old,still,love,it﻿,nice,song﻿,waka,waka﻿,oh,god,go,1,billion,replay,love,shakira﻿,love,her﻿,love,song,ampi,love,shakiralt333♡♡♡♡♡♡♡♡♡♡♡《33☆☆☆﻿,yea,stil,best,wk,song,everbr,thumbs,think,samebr,﻿,likedbr,﻿,like,song,﻿,like,﻿,waka,waka,﻿,amazing,song﻿,cool,song,﻿,love,u,shakira﻿,waka,waka,﻿,song,sucks﻿,lol,love,song﻿,shakira﻿,subscribe,channel,recording,fifa,15,goals,watch,d﻿,wow5,yearsbr,﻿,subscribe,wil,subscribe,back﻿,best,singer﻿,5,years,soon﻿,like﻿,wanderfol,love,miusic﻿,waka,waka﻿,best,song,ever,x3333333333﻿,pleasant,hear,haha,good﻿,love﻿,wow,waka,waka,eh,eh﻿,cutie,girl,beautiful,song,love,shkira﻿,believe,soccer,promotes,terrorism,bad,choice,shakira﻿,loved,song,teenage,years﻿,lip,synch,terrible﻿,shakira,different,,happy,time,spending,africa,br,dance,,sing,speaks,4,languages﻿,gusttavo,lima,você,não,conhece,br,check,out﻿,best,world,cup,offical,song﻿,5,years,ago,damn,﻿,nice,help,shakira39s,waka,waka,first,song,female,artist,reach,1,billion,viewsbr,dark,horse,ahead,roughly,100,million,views,roar,50,million,viewsbr,hrefhttpswwwyoutubecomwatchvprpeedmmmq0httpswwwyoutubecomwatchvprpeedmmmq0a﻿,like,me﻿,shakira,song,waka,waka﻿,underrated,betterbr,katy,perry,,saying,katy,bad,meaning,songs,shakira,hasbr,meaningful,songs,songs,bring,memories,vibe39s,miss,br,,﻿,love,song,expect,world,cup,﻿,good,times,﻿,makes,happy,instantly,makes,forgot,everything,bad,happening﻿,love,song,much,one,faves,xxx﻿,hi,nice,song,shakira,sorry,bad,brazilian﻿,best,song,go,shaki,d﻿,shit,sooooo,autotuned﻿,stil,lisening,﻿,sexy,shakira﻿,love,shakiria﻿,aunt,love,song﻿,subscribed,itbr,﻿,check,playlist,youtubebr,﻿,top,three,shakira,songs,choice,br,br,1,waka,waka,it39s,time,africabr,br,2,can39t,remember,forget,br,br,3,empirebr,br,like,comment,u,like,shakira,﻿,check,video,youtube﻿,check,playlist,youtubecentral,﻿,could,take,time,amp,spare,min,read,thank,br,br,im,rapper,we39re,gonna,honest,theres,thousands,maybe,even,millionsbr,br,world,many,ambition,dedication,amp,passionbr,br,don39t,money,huge,youtube,advertisements,incredible,music,videosbr,br,im,left,comments,expose,musicbr,br,could,take,moment,give,chance,ill,make,believerbr,br,would,love,nothing,loyal,following,youtube,anyone,br,br,reads,could,press,quotthumbs,upquot,others,see,itbr,br,help,push,closer,dream,,thank,you﻿,please,visit,channel﻿,pleas,subscribe,channel,gamezzmta﻿,pleas,subscribe,channel﻿,pleas,subscribe,gamezz,mta,channelbr,﻿,cool,song,check,animal,trafficking,petitionbr,hrefhttpwwwthepetitionsitecom387433550stopanimaltraffickingcidheaderclickhttpwwwthepetitionsitecom387433550stopanimaltraffickingcidheaderclicka﻿,check,video,youtube,﻿,subscribe,win,capbr,,☆☆☆☆☆﻿,check,playlist,youtube﻿,hey,guys,love,check,girl,name,cause,knows,dance,search,ej,ba,dancing﻿,want,win,money,hopme,click,hrefhttpswwwpaidvertscomrefsihaam01httpswwwpaidvertscomrefsihaam01a,it39s,work,100100﻿,brazil,please,subscribe,channel,love,all﻿,could,spanish,people,understand,thisbr,br,way39s,subscribe,brake,thingsbr,br,﻿,pleassssssssssssssss,subscribeeeeeeeeee,channnnnnelll,plzz﻿,check,video,youtube﻿,new,way,make,money,easily,spending,20,minutes,daily,gt,hrefhttpswwwpaidvertscomrefmarius1533httpswwwpaidvertscomrefmarius1533a﻿,beautiful,songs,please,subscribe﻿,channel,get,500,subscribers,make,happen,d﻿,really,love,watching,football,also,i’ve,started,making,income,financial,risk,acquiring,bonus,deals,it’s,weird,technique,wager,something,one,bookmakers,bet,betfair,secure,bonus,income,,chap,named,jim,vanstone,finding,wagers,free,website,vanstone,secrets,google,i’ve,made,500,quid,thus,far,costfree,guess,bookies,pay,obtain,new,consumers,yet,actually,works,many,subscribers,compared,million,absolutely,adore,watching,football,plus,i’ve,started,earning,income,risk,claiming,bonus,deals,it’s,weird,technique,put,money,something,one,bookmakers,put,money,betfair,acquire,bonus,income,,lad,named,jim,vanstone,selecting,wagers,free,website,vanstone,secrets,google,generated,600,quid,far,it’s,free,assume,bookmakers,pay,get,new,men,women,succeeds,hahahahah,♥♥♥♥,like,vines,,subscribe,daily,vines,hi,heard,dribbleproshot,search,google,web,site,watch,smart,free,video,featuring,best,way,significantly,boost,football,aka,soccer,skills,time,turned,nick,much,better,football,soccer,playerhis,team,mates,definitily,amazed,hope,help,also,hey,tried,quotdribbleproshotquot,yet,search,google,website,find,useful,free,video,demonstrating,right,way,enormously,improve,soccer,football,skills,time,transformed,fausto,substantially,better,footballsoccer,playerto,amazement,team,mates,hopefully,works,still,amazing,song,french,kpop,parody,please,come,channel,watch,share,suscribe,comment,thanks,subscribe,feed,subscribe,daily,vines,hey,guys,whats,found,app,lets,get,free,gift,card,vouchers,like,psn,cardsxbox,live,cards,even,amazon,gift,cards,free,simply,download,app,app,store,called,juno,wallet,sign,app,complete,surveys,download,free,apps,get,money,like,10,cents,also,type,code,im2458444,also,start,025,free,guys,check,extraordinary,website,called,firepacom,,make,money,online,start,working,home,today,making,3000,per,month,firepacom,,visit,firepacom,check,lake,,duzafizz,,singlewave,,spourmo,,burder,,colorful,,claster,,incandescent,,ambitious,,winooze,,absorbing,,macabre,,crestboot,,boxium,,womanly,,tan,,ybuwyn,,forgetful,,pepelexa,,zealous,waka,wakad,check,new,halloween,video,14,year,old,boys,trying,enter,music,industry,maybe,dreamers,one,please,give,us,one,chance,prove,ourself,know,things,annoying,hell,sorry,anything,get,music,heard,please,visit,channel,subscribe,like,thumb,comment,everyone,see,made,song,called,wanna,play,game,please,take,look,channel,thankss,plz,wilsubscribe,frndzzl,subscribe,u,back,guys,check,extraordinary,website,called,moneygqcom,,make,money,online,start,working,home,today,making,3000,per,month,moneygqcom,,visit,moneygqcom,check,fragile,swim,enlist,person,ice,audit,frequent,son,fantastic,chance,describes,rate,subscribe,requite,stop,wasting,time,get,paid,mess,around,facebook,twitter,get,paid,upto,25,35,hour,4netjobscom,work,comfort,home,currently,hiring,people,world,wide,range,social,media,jobs,sites,facebooktwitter,youtube,don39t,need,prior,skills,experience,begin,work,immediately,easily,make,4000,5000,monthly,income…only,4netjobscom,love,one,fave,songs,subscribed,,,,guys,check,extraordinary,website,called,zonepacom,,make,money,online,start,working,home,today,making,3000,per,month,zonepacom,,visit,zonepacom,check,statement,conciliate,acidic,stretch,earth,recognizes,money,numberless,number,transport,trade,make,lot,money,fast,visit,quot,ww,estiloproduction,com,quot,best,website,make,money,message,,gta,v,20,fifa,14,15,ps4,200,galaxy,s4,mini,250,ipad,4,200,visit,site,hhnl,stop,wasting,time,get,paid,mess,around,facebook,twitter,get,paid,upto,25,35,hour,4netjobscom,work,comfort,home,currently,hiring,people,world,wide,range,social,media,jobs,sites,facebooktwitter,youtube,don39t,need,prior,skills,experience,begin,work,immediately,easily,make,4000,5000,monthly,income…only,4netjobscom,paid,respond,fast,paid,surveys,home,enabled,give,working,make,4500,bucks,monthly,read,go,web,site,bitly1bsefqe,hello,guysi,found,way,make,money,online,get,paid,mess,around,facebook,twitter,get,paid,upto,25,35,houronly,4netjobscom,work,comfort,home,currently,hiring,people,world,wide,range,social,media,jobs,sites,facebooktwitter,youtube,don39t,need,prior,skills,experience,begin,work,immediately,easily,make,4000,5000,monthly,income…only,4netjobscom,guys,check,extraordinary,website,called,zonepacom,,make,money,online,start,working,home,today,making,3000,per,month,zonepacom,,visit,zonepacom,check,meat,discusss,successful,memory,peaceful,unit,arbitrate,guide,addition,designs,worried,loss,guys,check,extraordinary,website,called,zonepacom,,make,money,online,start,working,home,today,making,3000,per,month,zonepacom,,visit,zonepacom,check,mother,approve,axiomatic,insurance,fear,appoints,roll,space,prepare,historical,shame,guys,check,extraordinary,website,called,zonepacom,,make,money,online,start,working,home,today,making,3000,per,month,zonepacom,,visit,zonepacom,check,plausible,summer,submits,behavior,grass,check,peaceful,seat,country,strategizes,edge,check,channel,,subscribe,hello,guysi,found,way,make,money,online,get,paid,mess,around,facebook,twitter,get,paid,upto,25,35,houronly,4netjobscom,work,comfort,home,currently,hiring,people,world,wide,range,social,media,jobs,sites,facebooktwitter,youtube,don39t,need,prior,skills,experience,begin,work,immediately,easily,make,4000,5000,monthly,income…only,4netjobscom,please,visit,website,oldchattk,please,visit,website,oldchattk,hello,everyone,name39s,anderson,i39m,singer,expecting,buy,subscribers,words,gain,voice,might,best,voice,different,good,way,i39ll,work,harder,anyone,get,better,39cuz,quotyeahquot,dream,huge,one,doesn39t,please,take,3,minutes,time,check,covers,give,chance,won39t,regret,feel,like,subscribing,that39d,awesome,it39d,mean,world,thank,much,check,daneja,good,girl,hello,guysi,found,way,make,money,online,get,paid,mess,around,facebook,twitter,get,paid,upto,25,35,houronly,4netjobscom,work,comfort,home,currently,hiring,people,world,wide,range,social,media,jobs,sites,facebooktwitter,youtube,don39t,need,prior,skills,experience,begin,work,immediately,easily,make,4000,5000,monthly,income…only,4netjobscom,subscribe,youtube,channel,,suscribite,mi,canal,de,youtube,whatuknow,check,bass,cover,hips,don39t,lie,shakira,subscribe,channel,,lt3,britishs,called,soccer,know,true,word,football,us,foot,called,rugby,works,like,euw,,germany,netherland,france,portugal,belgium,spain,,,britishs,don39t,agree,like,us,unique,that39s,reason,also,refused,euro,€,money,subscribe,love,song,love,football,beutiful,she39s,pretty,like,perfect,1,753,682,421,gangnam,style,,fucking,bitch,song,racist,shakifans,like,want,new,song,shakira,perfect,shakira,,remember,waka,waka,makes,miss,world,cup,best,song,eva,love,believe,jesus,christ,savior,sins,truly,believe,jesus,christ,savior,sins,go,heaven,believe,jesus,christ,saved,salvation,gained,god’s,righteousness,matters,much,sinned,past,present,especially,future,believe,jesus,christ,savior,go,heaven,forever,whole,truth,spread,truth,perhaps,seen,newest,miley,cyrus,secret,video,,she39s,sucking,old,man39s,cock,,wish,see,,check,celebrity,website,beneath,,mileysecretvideocouk,haha,,miley,cyrus,done,today,someone,leeched,porno,video,celeb,site,believe,website,link,,mileycelebnewscouk,case,want,view,really,can39t,comprehend,miley,cyrus,,actually,high,profile,tapes,banging,today,video,leeched,sucking,fucking,video,posted,celebrity,website,,mileycelebnewscouk,voice,wow,shakira,,,wow,love,like,love,much,people,friends,love,shakira,,,shakira,love,beautiful,shakira,beautiful,good,god,hot,perfect,lt3,wow,shakira,voice,sound,spanish,make,music,sound,amazing,♥i,love,check,daneja,good,girl,check,covers,please,hey,music,fans,really,appreciate,take,time,read,check,music,i39m,15,year,old,boy,dreaming,successful,musician,music,world,lots,covers,piano,covers,don39t,money,advertise,simple,thumbs,comment,comment,videos,subscription,would,step,forward,seconds,life,won39t,regret,thank,u,people,give,chance,,echa,un,vistazo,la,remezcla,,check,remix,miley,cyrus,,wrecking,ball,house,edm,remix,miley,cyrus,,wrecking,ball,vincent,remix,click,enlace,suscríbase,,click,link,subscribe,hey,check,new,musicvideo,3939life39s,celebration3939,peace,,hi,check,share,songs,subscribe,amp,like,watchv5tu9gn1l310,watchvdtqcftr1fac,justien,bieber,car,2013,likeampsubscribe,check,bands,page,youtube,killtheclockhd,,check,original,songs,including,quotyour,disguisequot,hi,check,awesome,covers,say,think,hope,everyone,good,spirits,i39m,hard,working,student,who39s,also,passionate,singer,look,foward,day,make,music,share,i39ve,covers,check,channel,i39ve,done,covers,miley,cyrus,imagine,dragons,lana,del,rey,drake,macklemore,pink,countless,others,subscribe,want,goal,isn39t,become,famous,inspire,fyi,isn39t,spamming,everyone,right,freedom,speech,thanks,please,visit,web,wellcomemdblogfacom,please,check,video,called,quotwe,love,mind,master,itquot,thanks,perfect,ｈｔｔｐｗｗｗｅｂａｙｃｏｍｕｓｒｓｈｏｅｃｏｌｌｅｃｔｏｒ314,beautiful,song,beautiful,girl,works,shakira,,omg,love,ouf,ouf,ouffffffffffffffffff,,awesome,cool,song,never,get,old,always,goose,bumps,part,love,love,song,want,see,shakira,football,,good,recommend,apple,ipad,4th,gen,32gb,unlocked,wifi4g,97in,white,price390,apple,iphone,5,latest,model,,32gb,,black,price385,samsung,galaxy,s4,iv,4,16gb,new,white,price360,sony,60inch,3d,led,hdtv,price510,allinone,pcs,apple,macbook,pro,apple,macbook,air,price320,camera,nikon,d90,slr,camera,1855mm,55200mm,32gb,price390,ultrabooks,sony,vaio,pro,13,intel,core,i5,4gb,128gb,price515,,purchase,online,website,taaeecom,quothelp,humanity,sign,link,wholehearted,support,say,quotnoquot,discrimination,“united,stand,“,bring,change,together,impossible,says,possiblequot,winners,successcheers,loving,brothers,sisters,,please,share,link,facebook,support,discrimination,tinyurldotcomslashmxh2y77,fear,none,god,,part,5,comforter,afflicted,pray,us,help,christians,pray,us,queen,angels,pray,us,queen,patriarchs,pray,us,queen,prophets,pray,us,queen,apostles,pray,us,queen,martyrs,pray,us,queen,confessors,pray,us,queen,virgins,pray,us,queen,saints,pray,us,queen,conceived,without,original,sin,pray,us,queen,holy,rosary,pray,us,queen,family,pray,us,queen,peace,pray,us,part,2,holy,mary,pray,us,holy,mother,god,pray,us,holy,virgin,virgins,pray,us,mother,christ,pray,us,mother,divine,grace,pray,us,mother,pure,pray,us,mother,chaste,pray,us,mother,inviolate,pray,us,mother,undefiled,pray,us,mother,amiable,pray,us,mother,admirable,pray,us,mother,good,counsel,pray,us,mother,creator,pray,us,mother,redeemer,pray,us,hi,everyone,anyone,real,online,work,help,u,earn,lots,money,it39s,fun,it39s,real,affiliated,company,u,think,u,r,working,it39s,easy,enjoyable,info,contact,,neeru105,gmailcom,nice,song,,god,sexy,drives,crazy,wow,shakira,best,nice,shakira,shakira,,best,hey,youtubers,music,lover39s,guess,skip,comments,still,reading,thanks,,dont,money,advertisiments,chance,getting,heard,nothing,that39s,left,spam,sorry,im,17,rappersinger,estonia,please,listen,new,cover,account,wont,regret,give,chance,please,take,half,second,life,thumb,comment,maybe,change,life,real,thank,wafence,want,make,easy,money,check,page,tvcmcadavidweebly,,com,dont,miss,opportunity,give,thumbs,would,apprecitate,please,check,video,called,quotwe,love,mind,master,itquot,thank,u,,ways,make,money,50k,per,month,search,google,gtgt,9nlmemakemoneywithoutinvestment1,meet,richest,online,marketer,click,,bitlymakemoneywithoutadroid,know,people,makes,another,account,subscribing,liking,,,i39ll,subscribe,look,nice,,hey,dickwad,,we39re,africans,colour,skin,tells,us,something,long,ago,ancestors,left,africa,check,baba,brinkman,,song,called,quoti39m,africanquot,go,learn,something,wow,muslims,really,egoistic,23,world,population,video,donating,1,dollar,poor,ones,africa,,shame,terrorist,muslims,wats,good,go,check,music,da,channel,ik,yall,got,know,y39all,check,amy,music,yall,got,go,da,channel,northland,paranormal,society,youtube,check,channel,real,paranormal,evidence,facebook,northland,paranormal,society,hello,everyone,,know,probably,pass,kind,comments,still,reading,thanks,don’t,money,advertisements,chance,getting,heard,nothing,live,small,town,comes,spam,sorry,i’m,instrumental,songwriter,columbus,mississippi,please,go,channel,check,original,music,would,highly,appreciated,thumbs,comment,music,heard,thank,adam,whitney,going,call,instrumental,songwriter,theres,singing,theres,song,write,lol,got,alot,learn,kid,hey,don39t,forget,subscribe,hello,everyone,,know,probably,pass,kind,comments,still,reading,thanks,don’t,money,advertisements,chance,getting,heard,nothing,live,small,town,comes,spam,sorry,i’m,instrumental,songwriter,columbus,mississippi,please,go,channel,check,original,music,would,highly,appreciated,thumbs,comment,music,heard,thank,adam,whitney,please,go,see,channel,subscribe,,would,nice,mate,wanna,earn,money,online,without,investmentjust,visit,link,thergloveblogspotin201308blogpost10html,hello,everyone,,know,probably,pass,kind,comments,still,reading,thanks,don’t,money,advertisements,chance,getting,heard,nothing,live,small,town,comes,spam,sorry,i’m,instrumental,songwriter,columbus,mississippi,please,go,channel,check,original,music,would,highly,appreciated,thumbs,comment,music,heard,thank,adam,whitney,check,dubstep,version,make,money,wanna,laugh,please,subscribe,channel,earn,money,online,0,efforts,bitly14gkvdo,could,please,check,covers,channel,covers,like,adele,kodaline,imagine,dragonsand,please,could,spare,minutes,could,listen,one,two,covers,,feel,free,comment,subscribe,,thank,adfly,kld3y,check,irish,guys,cover,avicii39s,wake,search,quotwake,fiddle,sillyquot,worth,listen,gorgeous,fiddle,player,hello,everyone,,know,probably,pass,kind,comments,still,reading,thanks,don’t,money,advertisements,chance,getting,heard,nothing,comes,spam,sorry,video,animator,trying,make,video,animation,industry,please,give,chance,prove,please,visit,channel,subscribe,like,thumb,comment,everyone,see,thank,hello,everyone,,know,probably,pass,kind,comments,still,reading,thanks,don’t,money,advertisements,chance,getting,heard,nothing,comes,spam,sorry,video,animator,trying,make,video,animation,industry,please,give,chance,prove,please,visit,channel,subscribe,like,thumb,comment,everyone,see,thank,hey,youtubers,really,appreciate,took,time,read,19,year,old,boy,wants,successful,musician,music,world,dont,money,advertise,channel,could,visit,channel,comment,video,subscribe,would,great,seconds,life,thank,u,people,gave,chance,l,really,appreciate,subscribe,pagee,please,please,subscribe,page,thanks,hey,hit,shit,yall,killed,versace,remix,type,cge,quotversace,freestyle,get,moneyquot,shot,jawan,gardner,help,reach,1,million,views,hey,guys,girls,check,comedy,recipe,hilarious,tube,videos,pranks,crank,calls,subscribe,subscribe,back,subscribe,subscribe,back,please,check,channel,subscribe,back,really,ask,nicely,view,vids,subscribe,back,,facebook,lame,2004,check,,swagfriends,com,make,thousands,cool,new,friends,everyday,join,new,movement,hi,check,share,songs,check,partyman318,fr,good,tunez,hey,youtubers,really,appreciate,took,time,read,19,year,old,boy,wants,successful,musician,music,world,dont,money,advertise,channel,could,visit,channel,comment,video,subscribe,would,great,seconds,life,thank,u,people,gave,chance,l,really,appreciate,hey,music,fans,really,appreciate,take,time,read,check,music,i39m,15,year,old,boy,dreaming,successful,musician,music,world,lots,covers,piano,covers,don39t,money,advertise,simple,thumbs,comment,comment,videos,subscription,would,step,forward,seconds,life,won39t,regret,thank,u,people,give,chance,,hey,music,fans,really,appreciate,take,time,read,check,music,i39m,15,year,old,boy,dreaming,successful,musician,music,world,lots,covers,piano,covers,don39t,money,advertise,simple,thumbs,comment,comment,videos,subscription,would,step,forward,seconds,life,won39t,regret,thank,u,people,give,chance,,hey,music,fans,really,appreciate,take,time,read,check,music,i39m,15,year,old,boy,dreaming,successful,musician,music,world,lots,covers,piano,covers,don39t,money,advertise,simple,thumbs,comment,comment,videos,subscription,would,step,forward,seconds,life,won39t,regret,thank,u,people,give,chance,,hi,check,share,songs,hi,check,share,songs,hicheck,share,songs,hey,music,fans,really,appreciate,take,time,read,check,music,i39m,15,year,old,boy,dreaming,successful,musician,music,world,lots,covers,piano,covers,don39t,money,advertise,simple,thumbs,comment,comment,videos,subscription,would,step,forward,seconds,life,won39t,regret,thank,u,people,give,chance,,hey,forty,hour,famine,i39ll,giving,food,social,working,40,hours,i39m,raise,money,african,people,can39t,experience,luxuries,donate,give,chance,amount,would,,click,link,donate,h,p,,,,4,0,h,f,,c,,u,,n,h,n,l,thanks,,love,itt,ppl,check,channel,subscribe,channel,adfly,,kld3y,adfly,,kld3y,check,new,video,hey,music,fans,really,appreciate,take,time,read,check,music,i39m,15,year,old,boy,dreaming,successful,musician,music,world,lots,covers,piano,covers,dont,money,advertise,simple,thumbs,comment,comment,videos,subscription,would,step,forward,seconds,life,u,won39t,regret,thank,u,people,give,chance,means,lot,,hello,everyone,intention,spam,truly,sorry,anyone,annoyed,please,hear,rapper,singer,music,producer,song,writer,making,music,eight,years,exact,enjoy,making,types,music,anyone,listen,doesn39t,talking,killing,anyone,importantly,focuses,quality,music,please,check,page,it39s,click,away,thank,nice,day,,,facebook,lame,2004,check,,swagfriends,com,make,thousands,cool,new,friends,everyday,join,new,movement,please,check,send,others,freedom,justice,line,please,google,steven,l,reed,case,lands,supreme,courtthanks,nice,meet,,johnny,1,already,know,music,,thumb,found,way,2,want,hear,original,songs,completely,made,1,person,continue,reading,sing,write,original,musiclyrics,amp,play,guitar,bass,drums,amp,keyboards,i39m,1manband,music,completely,independent,amp,100,listenersupported,want,hear,amp,you39re,willing,help,record,new,album,,click,namepicture,enjoy,music,,wish,awesome,day,hey,,check,channel,alvar,lake,,hi,johnny,1,already,know,music,,thumb,found,way,2,want,hear,original,songs,completely,made,1,person,continue,reading,sing,write,original,musiclyrics,amp,play,guitar,bass,drums,amp,keyboards,i39m,1manband,music,completely,independent,amp,100,listenersupported,want,hear,amp,you39re,willing,help,record,new,album,,click,namepicture,thank,amp,enjoy,music,,wish,awesome,day,wow,love,song,love,song,,check,video,youtubebr,quotthis,time,africaquot,one,trayvon,motherlandbr,thankyou,shakira﻿,watched,large,amount,views,convinced,girl,hot,peoples,earth,seen,perform,every,form,evil,leisure,cease,reveling,hate,behold,murder,innocent,day,night,plot,evil,neighbor,stand,rights,commit,abomination,clap,hands,wickedness,celebrated,openly,streets,perverse,abominable,generation,shall,repay,hear,word,lord,,trumpetcallofgodonline,co,song,always,gives,chills,,love,dis,song,3,never,forget,song,life,like,comment,hearing,song,like,year,omg,facebook,old,check,gt,swagfriends,com,make,thousands,cool,new,friends,everyday,join,movement,hey,music,fans,really,appreciate,take,time,read,check,music,i39m,15,year,old,boy,dreaming,successful,musician,music,world,lots,covers,piano,covers,dont,money,advertise,simple,thumbs,comment,comment,videos,subscription,would,step,forward,seconds,life,u,won39t,regret,thank,u,people,give,chance,means,lot,,check,new,mixtape,check,new,mixtape,check,new,mixtape,check,new,mixtapecheck,new,mixtape,check,new,mixtape,check,new,mixtape,check,new,mixtapecheck,new,mixtape,check,new,mixtape,check,new,mixtape,check,new,mixtapecheck,new,mixtape,check,new,mixtape,check,new,mixtape,check,new,mixtape,check,new,mixtape,check,new,mixtape,check,new,mixtape,check,new,mixtapecheck,new,mixtape,check,new,mixtape,check,new,mixtape,check,new,mixtapecheck,new,mixtape,check,new,mixtape,check,new,mixtape,check,new,mixtapecheck,new,mixtape,check,new,mixtape,check,new,mixtape,check,new,mixtape,check,new,mixtape,check,new,mixtape,check,new,mixtape,check,new,mixtapecheck,new,mixtape,check,new,mixtape,check,new,mixtape,check,new,mixtapecheck,new,mixtape,check,new,mixtape,check,new,mixtape,check,new,mixtapecheck,new,mixtape,check,new,mixtape,check,new,mixtape,check,new,mixtape,waka,waka,rules,sooooo,beautiful,well,done,shakira,love,song,sing,camp,time,love,song,two,reasons,1it,africa,2i,born,beautiful,south,africa,wow,shakira,u,wiredo,shakira,best,dancer\n"
     ]
    }
   ],
   "source": [
    "def deEmojify(text):\n",
    "    regrex_pattern = re.compile(pattern = \"[\"\n",
    "        u\"\\U0001F600-\\U0001F64F\"  # emoticons\n",
    "        u\"\\U0001F300-\\U0001F5FF\"  # symbols & pictographs\n",
    "        u\"\\U0001F680-\\U0001F6FF\"  # transport & map symbols\n",
    "        u\"\\U0001F1E0-\\U0001F1FF\"  # flags (iOS)\n",
    "                           \"]+\", flags = re.UNICODE)\n",
    "    return regrex_pattern.sub(r'',text)\n",
    "\n",
    "print(deEmojify(comments))\n",
    "#remove emjois"
   ]
  },
  {
   "cell_type": "markdown",
   "metadata": {},
   "source": [
    "## Univariate Analysis"
   ]
  },
  {
   "cell_type": "markdown",
   "metadata": {},
   "source": [
    "### Comment Length"
   ]
  },
  {
   "cell_type": "code",
   "execution_count": 4,
   "metadata": {},
   "outputs": [
    {
     "data": {
      "text/html": [
       "<div>\n",
       "<style scoped>\n",
       "    .dataframe tbody tr th:only-of-type {\n",
       "        vertical-align: middle;\n",
       "    }\n",
       "\n",
       "    .dataframe tbody tr th {\n",
       "        vertical-align: top;\n",
       "    }\n",
       "\n",
       "    .dataframe thead th {\n",
       "        text-align: right;\n",
       "    }\n",
       "</style>\n",
       "<table border=\"1\" class=\"dataframe\">\n",
       "  <thead>\n",
       "    <tr style=\"text-align: right;\">\n",
       "      <th></th>\n",
       "      <th>COMMENT_ID</th>\n",
       "      <th>AUTHOR</th>\n",
       "      <th>DATE</th>\n",
       "      <th>CONTENT</th>\n",
       "      <th>CLASS</th>\n",
       "      <th>CONTENT_LENGTH</th>\n",
       "    </tr>\n",
       "  </thead>\n",
       "  <tbody>\n",
       "    <tr>\n",
       "      <th>0</th>\n",
       "      <td>z13lgffb5w3ddx1ul22qy1wxspy5cpkz504</td>\n",
       "      <td>dharma pal</td>\n",
       "      <td>2015-05-29T02:30:18.971000</td>\n",
       "      <td>Nice song﻿</td>\n",
       "      <td>0</td>\n",
       "      <td>10</td>\n",
       "    </tr>\n",
       "    <tr>\n",
       "      <th>1</th>\n",
       "      <td>z123dbgb0mqjfxbtz22ucjc5jvzcv3ykj</td>\n",
       "      <td>Tiza Arellano</td>\n",
       "      <td>2015-05-29T00:14:48.748000</td>\n",
       "      <td>I love song ﻿</td>\n",
       "      <td>0</td>\n",
       "      <td>13</td>\n",
       "    </tr>\n",
       "    <tr>\n",
       "      <th>2</th>\n",
       "      <td>z12quxxp2vutflkxv04cihggzt2azl34pms0k</td>\n",
       "      <td>Prìñçeśś Âliś Łøvê Dømíñø Mâđiś™ ﻿</td>\n",
       "      <td>2015-05-28T21:00:08.607000</td>\n",
       "      <td>I love song ﻿</td>\n",
       "      <td>0</td>\n",
       "      <td>13</td>\n",
       "    </tr>\n",
       "    <tr>\n",
       "      <th>3</th>\n",
       "      <td>z12icv3ysqvlwth2c23eddlykyqut5z1h</td>\n",
       "      <td>Eric Gonzalez</td>\n",
       "      <td>2015-05-28T20:47:12.193000</td>\n",
       "      <td>860,000,000 lets make it first female to reach...</td>\n",
       "      <td>0</td>\n",
       "      <td>86</td>\n",
       "    </tr>\n",
       "    <tr>\n",
       "      <th>4</th>\n",
       "      <td>z133stly3kete3tly22petvwdpmghrlli</td>\n",
       "      <td>Analena López</td>\n",
       "      <td>2015-05-28T17:08:29.827000</td>\n",
       "      <td>shakira is best for worldcup﻿</td>\n",
       "      <td>0</td>\n",
       "      <td>29</td>\n",
       "    </tr>\n",
       "  </tbody>\n",
       "</table>\n",
       "</div>"
      ],
      "text/plain": [
       "                              COMMENT_ID                              AUTHOR  \\\n",
       "0    z13lgffb5w3ddx1ul22qy1wxspy5cpkz504                          dharma pal   \n",
       "1      z123dbgb0mqjfxbtz22ucjc5jvzcv3ykj                       Tiza Arellano   \n",
       "2  z12quxxp2vutflkxv04cihggzt2azl34pms0k  Prìñçeśś Âliś Łøvê Dømíñø Mâđiś™ ﻿   \n",
       "3      z12icv3ysqvlwth2c23eddlykyqut5z1h                       Eric Gonzalez   \n",
       "4      z133stly3kete3tly22petvwdpmghrlli                       Analena López   \n",
       "\n",
       "                         DATE  \\\n",
       "0  2015-05-29T02:30:18.971000   \n",
       "1  2015-05-29T00:14:48.748000   \n",
       "2  2015-05-28T21:00:08.607000   \n",
       "3  2015-05-28T20:47:12.193000   \n",
       "4  2015-05-28T17:08:29.827000   \n",
       "\n",
       "                                             CONTENT  CLASS  CONTENT_LENGTH  \n",
       "0                                         Nice song﻿      0              10  \n",
       "1                                      I love song ﻿      0              13  \n",
       "2                                      I love song ﻿      0              13  \n",
       "3  860,000,000 lets make it first female to reach...      0              86  \n",
       "4                      shakira is best for worldcup﻿      0              29  "
      ]
     },
     "execution_count": 4,
     "metadata": {},
     "output_type": "execute_result"
    }
   ],
   "source": [
    "shakira['CONTENT_LENGTH'] = shakira.CONTENT.apply(lambda x: x.split())\n",
    "#Create a new column based on CONTENT and tokenize the text\n",
    "shakira['CONTENT_LENGTH'] = shakira.CONTENT.apply(lambda x: x.lower())\n",
    "#convert all the characters to lowercase\n",
    "shakira['CONTENT_LENGTH'] = shakira.CONTENT.apply(lambda x: ''.join([c for c in x if c not in punctuation]))\n",
    "#Remove the puncutation\n",
    "shakira['CONTENT_LENGTH']=shakira.CONTENT.apply(lambda x:len(x))\n",
    "#Find the length of each comment\n",
    "shakira.head()"
   ]
  },
  {
   "cell_type": "code",
   "execution_count": 5,
   "metadata": {},
   "outputs": [
    {
     "name": "stdout",
     "output_type": "stream",
     "text": [
      "Average Comment Length: 108.92432432432433\n",
      "Minimum Comment Length: 2\n",
      "Maximum Comment Length: 1125\n"
     ]
    }
   ],
   "source": [
    "print(\"Average Comment Length:\",shakira['CONTENT_LENGTH'].mean())\n",
    "print(\"Minimum Comment Length:\",shakira['CONTENT_LENGTH'].min())\n",
    "print(\"Maximum Comment Length:\",shakira['CONTENT_LENGTH'].max())"
   ]
  },
  {
   "cell_type": "code",
   "execution_count": 48,
   "metadata": {},
   "outputs": [
    {
     "data": {
      "text/plain": [
       "Text(0.5, 1.0, 'Distribution of comment length')"
      ]
     },
     "execution_count": 48,
     "metadata": {},
     "output_type": "execute_result"
    },
    {
     "data": {
      "image/png": "[encoded data removed]",
      "text/plain": [
       "<Figure size 432x288 with 1 Axes>"
      ]
     },
     "metadata": {
      "needs_background": "light"
     },
     "output_type": "display_data"
    }
   ],
   "source": [
    "shakira['CONTENT_LENGTH'].hist(bins=20)\n",
    "plt.title('Distribution of comment length')"
   ]
  },
  {
   "cell_type": "markdown",
   "metadata": {},
   "source": [
    "Most comments in the dataset are less than 50 words meaning that most users leave shorter comments."
   ]
  },
  {
   "cell_type": "markdown",
   "metadata": {},
   "source": [
    "### Dates"
   ]
  },
  {
   "cell_type": "code",
   "execution_count": 50,
   "metadata": {},
   "outputs": [
    {
     "data": {
      "text/html": [
       "<div>\n",
       "<style scoped>\n",
       "    .dataframe tbody tr th:only-of-type {\n",
       "        vertical-align: middle;\n",
       "    }\n",
       "\n",
       "    .dataframe tbody tr th {\n",
       "        vertical-align: top;\n",
       "    }\n",
       "\n",
       "    .dataframe thead th {\n",
       "        text-align: right;\n",
       "    }\n",
       "</style>\n",
       "<table border=\"1\" class=\"dataframe\">\n",
       "  <thead>\n",
       "    <tr style=\"text-align: right;\">\n",
       "      <th></th>\n",
       "      <th>COMMENT_ID</th>\n",
       "      <th>AUTHOR</th>\n",
       "      <th>DATE</th>\n",
       "      <th>CONTENT</th>\n",
       "      <th>CLASS</th>\n",
       "      <th>CONTENT_LENGTH</th>\n",
       "      <th>YEAR_MONTH</th>\n",
       "    </tr>\n",
       "  </thead>\n",
       "  <tbody>\n",
       "    <tr>\n",
       "      <th>0</th>\n",
       "      <td>z13lgffb5w3ddx1ul22qy1wxspy5cpkz504</td>\n",
       "      <td>dharma pal</td>\n",
       "      <td>2015-05-29 02:30:18.971</td>\n",
       "      <td>Nice song﻿</td>\n",
       "      <td>0</td>\n",
       "      <td>10</td>\n",
       "      <td>2015-05</td>\n",
       "    </tr>\n",
       "    <tr>\n",
       "      <th>1</th>\n",
       "      <td>z123dbgb0mqjfxbtz22ucjc5jvzcv3ykj</td>\n",
       "      <td>Tiza Arellano</td>\n",
       "      <td>2015-05-29 00:14:48.748</td>\n",
       "      <td>I love song ﻿</td>\n",
       "      <td>0</td>\n",
       "      <td>13</td>\n",
       "      <td>2015-05</td>\n",
       "    </tr>\n",
       "    <tr>\n",
       "      <th>2</th>\n",
       "      <td>z12quxxp2vutflkxv04cihggzt2azl34pms0k</td>\n",
       "      <td>Prìñçeśś Âliś Łøvê Dømíñø Mâđiś™ ﻿</td>\n",
       "      <td>2015-05-28 21:00:08.607</td>\n",
       "      <td>I love song ﻿</td>\n",
       "      <td>0</td>\n",
       "      <td>13</td>\n",
       "      <td>2015-05</td>\n",
       "    </tr>\n",
       "    <tr>\n",
       "      <th>3</th>\n",
       "      <td>z12icv3ysqvlwth2c23eddlykyqut5z1h</td>\n",
       "      <td>Eric Gonzalez</td>\n",
       "      <td>2015-05-28 20:47:12.193</td>\n",
       "      <td>860,000,000 lets make it first female to reach...</td>\n",
       "      <td>0</td>\n",
       "      <td>86</td>\n",
       "      <td>2015-05</td>\n",
       "    </tr>\n",
       "    <tr>\n",
       "      <th>4</th>\n",
       "      <td>z133stly3kete3tly22petvwdpmghrlli</td>\n",
       "      <td>Analena López</td>\n",
       "      <td>2015-05-28 17:08:29.827</td>\n",
       "      <td>shakira is best for worldcup﻿</td>\n",
       "      <td>0</td>\n",
       "      <td>29</td>\n",
       "      <td>2015-05</td>\n",
       "    </tr>\n",
       "  </tbody>\n",
       "</table>\n",
       "</div>"
      ],
      "text/plain": [
       "                              COMMENT_ID                              AUTHOR  \\\n",
       "0    z13lgffb5w3ddx1ul22qy1wxspy5cpkz504                          dharma pal   \n",
       "1      z123dbgb0mqjfxbtz22ucjc5jvzcv3ykj                       Tiza Arellano   \n",
       "2  z12quxxp2vutflkxv04cihggzt2azl34pms0k  Prìñçeśś Âliś Łøvê Dømíñø Mâđiś™ ﻿   \n",
       "3      z12icv3ysqvlwth2c23eddlykyqut5z1h                       Eric Gonzalez   \n",
       "4      z133stly3kete3tly22petvwdpmghrlli                       Analena López   \n",
       "\n",
       "                     DATE                                            CONTENT  \\\n",
       "0 2015-05-29 02:30:18.971                                         Nice song﻿   \n",
       "1 2015-05-29 00:14:48.748                                      I love song ﻿   \n",
       "2 2015-05-28 21:00:08.607                                      I love song ﻿   \n",
       "3 2015-05-28 20:47:12.193  860,000,000 lets make it first female to reach...   \n",
       "4 2015-05-28 17:08:29.827                      shakira is best for worldcup﻿   \n",
       "\n",
       "   CLASS  CONTENT_LENGTH YEAR_MONTH  \n",
       "0      0              10    2015-05  \n",
       "1      0              13    2015-05  \n",
       "2      0              13    2015-05  \n",
       "3      0              86    2015-05  \n",
       "4      0              29    2015-05  "
      ]
     },
     "execution_count": 50,
     "metadata": {},
     "output_type": "execute_result"
    }
   ],
   "source": [
    "#extracting the year and month from the DATE attribute\n",
    "shakira['YEAR_MONTH'] = shakira['DATE'].dt.strftime('%Y-%m')\n",
    "shakira.head()"
   ]
  },
  {
   "cell_type": "code",
   "execution_count": 52,
   "metadata": {},
   "outputs": [
    {
     "data": {
      "text/plain": [
       "2015-05    162\n",
       "2013-10     72\n",
       "2013-09     43\n",
       "2013-08     39\n",
       "2013-07     38\n",
       "2015-04      8\n",
       "2013-11      7\n",
       "Name: YEAR_MONTH, dtype: int64"
      ]
     },
     "execution_count": 52,
     "metadata": {},
     "output_type": "execute_result"
    }
   ],
   "source": [
    "shakira['YEAR_MONTH'].value_counts()"
   ]
  },
  {
   "cell_type": "code",
   "execution_count": 56,
   "metadata": {},
   "outputs": [
    {
     "data": {
      "text/plain": [
       "Text(0.5, 1.0, 'Date of Comments')"
      ]
     },
     "execution_count": 56,
     "metadata": {},
     "output_type": "execute_result"
    },
    {
     "data": {
      "image/png": "[encoded data removed]",
      "text/plain": [
       "<Figure size 432x288 with 1 Axes>"
      ]
     },
     "metadata": {
      "needs_background": "light"
     },
     "output_type": "display_data"
    }
   ],
   "source": [
    "sns.countplot(y='YEAR_MONTH', data= shakira)\n",
    "plt.xlabel('Count')\n",
    "plt.ylabel('Date')\n",
    "plt.title('Date of Comments')"
   ]
  },
  {
   "cell_type": "markdown",
   "metadata": {},
   "source": [
    "Most of the observations in the dataset are from May of 2015 and the least observations are from November of 2013."
   ]
  },
  {
   "cell_type": "markdown",
   "metadata": {},
   "source": [
    "### Frequency of Comments"
   ]
  },
  {
   "cell_type": "code",
   "execution_count": 111,
   "metadata": {},
   "outputs": [
    {
     "data": {
      "text/plain": [
       "Shadrach Grentz                      7\n",
       "5000palo                             7\n",
       "Hidden Love                          5\n",
       "James Cook                           4\n",
       "Pyles Baxter                         3\n",
       "                                    ..\n",
       "Raafat saeed                         1\n",
       "Oreoluwa Ajjayi                      1\n",
       "Ishfaq khan                          1\n",
       "How To Make Money On The Internet    1\n",
       "Robloxia Asap                        1\n",
       "Name: AUTHOR, Length: 319, dtype: int64"
      ]
     },
     "execution_count": 111,
     "metadata": {},
     "output_type": "execute_result"
    }
   ],
   "source": [
    "shakira.AUTHOR.value_counts()"
   ]
  },
  {
   "cell_type": "code",
   "execution_count": 95,
   "metadata": {},
   "outputs": [
    {
     "data": {
      "text/plain": [
       "<AxesSubplot:xlabel='count', ylabel='AUTHOR'>"
      ]
     },
     "execution_count": 95,
     "metadata": {},
     "output_type": "execute_result"
    },
    {
     "data": {
      "image/png": "[encoded data removed]",
      "text/plain": [
       "<Figure size 432x288 with 1 Axes>"
      ]
     },
     "metadata": {
      "needs_background": "light"
     },
     "output_type": "display_data"
    }
   ],
   "source": [
    "sns.countplot(y='AUTHOR', data=shakira,\n",
    "              order=shakira.AUTHOR.value_counts().iloc[:11].index)"
   ]
  },
  {
   "cell_type": "code",
   "execution_count": 96,
   "metadata": {},
   "outputs": [
    {
     "data": {
      "text/html": [
       "<div>\n",
       "<style scoped>\n",
       "    .dataframe tbody tr th:only-of-type {\n",
       "        vertical-align: middle;\n",
       "    }\n",
       "\n",
       "    .dataframe tbody tr th {\n",
       "        vertical-align: top;\n",
       "    }\n",
       "\n",
       "    .dataframe thead th {\n",
       "        text-align: right;\n",
       "    }\n",
       "</style>\n",
       "<table border=\"1\" class=\"dataframe\">\n",
       "  <thead>\n",
       "    <tr style=\"text-align: right;\">\n",
       "      <th></th>\n",
       "      <th>COMMENT_ID</th>\n",
       "      <th>AUTHOR</th>\n",
       "      <th>DATE</th>\n",
       "      <th>CONTENT</th>\n",
       "      <th>CLASS</th>\n",
       "      <th>CONTENT_LENGTH</th>\n",
       "      <th>YEAR_MONTH</th>\n",
       "    </tr>\n",
       "  </thead>\n",
       "  <tbody>\n",
       "    <tr>\n",
       "      <th>250</th>\n",
       "      <td>_2viQ_Qnc68dceJbTRNTP2sksMxa_lm35LaCu_jPluY</td>\n",
       "      <td>Shadrach Grentz</td>\n",
       "      <td>2013-09-29 13:59:42.162</td>\n",
       "      <td>Hey Music Fans I really appreciate any of you ...</td>\n",
       "      <td>1</td>\n",
       "      <td>506</td>\n",
       "      <td>2013-09</td>\n",
       "    </tr>\n",
       "    <tr>\n",
       "      <th>328</th>\n",
       "      <td>_2viQ_Qnc69zyetF6GsHRzYGyXl4u5kg0Sm-nP-pupI</td>\n",
       "      <td>Shadrach Grentz</td>\n",
       "      <td>2013-08-02 03:15:46.914</td>\n",
       "      <td>Hey Music Fans I really appreciate any of you ...</td>\n",
       "      <td>1</td>\n",
       "      <td>505</td>\n",
       "      <td>2013-08</td>\n",
       "    </tr>\n",
       "    <tr>\n",
       "      <th>329</th>\n",
       "      <td>_2viQ_Qnc699u36gNm3NRoq1quIaJWRNrftGEEZM3J4</td>\n",
       "      <td>Shadrach Grentz</td>\n",
       "      <td>2013-08-01 21:43:52.122</td>\n",
       "      <td>Hey Music Fans I really appreciate any of you ...</td>\n",
       "      <td>1</td>\n",
       "      <td>506</td>\n",
       "      <td>2013-08</td>\n",
       "    </tr>\n",
       "    <tr>\n",
       "      <th>330</th>\n",
       "      <td>_2viQ_Qnc68LqKGb40V2ImKQYcp1ZqpHrCCMFqMCcA4</td>\n",
       "      <td>Shadrach Grentz</td>\n",
       "      <td>2013-08-01 20:39:15.325</td>\n",
       "      <td>Hey Music Fans I really appreciate any of you ...</td>\n",
       "      <td>1</td>\n",
       "      <td>506</td>\n",
       "      <td>2013-08</td>\n",
       "    </tr>\n",
       "    <tr>\n",
       "      <th>334</th>\n",
       "      <td>_2viQ_Qnc69Nq0Ytk1jCpzWPCrpGEk6T7cdVAxfSlAk</td>\n",
       "      <td>Shadrach Grentz</td>\n",
       "      <td>2013-07-29 17:39:24.876</td>\n",
       "      <td>Hey Music Fans I really appreciate any of you ...</td>\n",
       "      <td>1</td>\n",
       "      <td>506</td>\n",
       "      <td>2013-07</td>\n",
       "    </tr>\n",
       "    <tr>\n",
       "      <th>341</th>\n",
       "      <td>_2viQ_Qnc6_YN7xFNAg14zX99Y614Salf57yOcrBRSw</td>\n",
       "      <td>Shadrach Grentz</td>\n",
       "      <td>2013-07-21 12:21:37.898</td>\n",
       "      <td>Hey Music Fans I really appreciate all of you ...</td>\n",
       "      <td>1</td>\n",
       "      <td>504</td>\n",
       "      <td>2013-07</td>\n",
       "    </tr>\n",
       "    <tr>\n",
       "      <th>358</th>\n",
       "      <td>_2viQ_Qnc6-jk58CPwBnqfbM6oByJH5oPvCtKecLQyo</td>\n",
       "      <td>Shadrach Grentz</td>\n",
       "      <td>2013-07-14 03:11:20.243</td>\n",
       "      <td>Hey Music Fans I really appreciate all of you ...</td>\n",
       "      <td>1</td>\n",
       "      <td>504</td>\n",
       "      <td>2013-07</td>\n",
       "    </tr>\n",
       "  </tbody>\n",
       "</table>\n",
       "</div>"
      ],
      "text/plain": [
       "                                      COMMENT_ID           AUTHOR  \\\n",
       "250  _2viQ_Qnc68dceJbTRNTP2sksMxa_lm35LaCu_jPluY  Shadrach Grentz   \n",
       "328  _2viQ_Qnc69zyetF6GsHRzYGyXl4u5kg0Sm-nP-pupI  Shadrach Grentz   \n",
       "329  _2viQ_Qnc699u36gNm3NRoq1quIaJWRNrftGEEZM3J4  Shadrach Grentz   \n",
       "330  _2viQ_Qnc68LqKGb40V2ImKQYcp1ZqpHrCCMFqMCcA4  Shadrach Grentz   \n",
       "334  _2viQ_Qnc69Nq0Ytk1jCpzWPCrpGEk6T7cdVAxfSlAk  Shadrach Grentz   \n",
       "341  _2viQ_Qnc6_YN7xFNAg14zX99Y614Salf57yOcrBRSw  Shadrach Grentz   \n",
       "358  _2viQ_Qnc6-jk58CPwBnqfbM6oByJH5oPvCtKecLQyo  Shadrach Grentz   \n",
       "\n",
       "                       DATE  \\\n",
       "250 2013-09-29 13:59:42.162   \n",
       "328 2013-08-02 03:15:46.914   \n",
       "329 2013-08-01 21:43:52.122   \n",
       "330 2013-08-01 20:39:15.325   \n",
       "334 2013-07-29 17:39:24.876   \n",
       "341 2013-07-21 12:21:37.898   \n",
       "358 2013-07-14 03:11:20.243   \n",
       "\n",
       "                                               CONTENT  CLASS  CONTENT_LENGTH  \\\n",
       "250  Hey Music Fans I really appreciate any of you ...      1             506   \n",
       "328  Hey Music Fans I really appreciate any of you ...      1             505   \n",
       "329  Hey Music Fans I really appreciate any of you ...      1             506   \n",
       "330  Hey Music Fans I really appreciate any of you ...      1             506   \n",
       "334  Hey Music Fans I really appreciate any of you ...      1             506   \n",
       "341  Hey Music Fans I really appreciate all of you ...      1             504   \n",
       "358  Hey Music Fans I really appreciate all of you ...      1             504   \n",
       "\n",
       "    YEAR_MONTH  \n",
       "250    2013-09  \n",
       "328    2013-08  \n",
       "329    2013-08  \n",
       "330    2013-08  \n",
       "334    2013-07  \n",
       "341    2013-07  \n",
       "358    2013-07  "
      ]
     },
     "execution_count": 96,
     "metadata": {},
     "output_type": "execute_result"
    }
   ],
   "source": [
    "shakira.loc[(shakira['AUTHOR']=='Shadrach Grentz')]\n",
    "#Comments from the top commenter"
   ]
  },
  {
   "cell_type": "markdown",
   "metadata": {},
   "source": [
    "The user, Shadrach Grentz, left the most comments. All of them are also marked as spam."
   ]
  },
  {
   "cell_type": "markdown",
   "metadata": {},
   "source": [
    "## Bivariate"
   ]
  },
  {
   "cell_type": "markdown",
   "metadata": {},
   "source": [
    "Separating spam from non-spam comments in the Class attribute for further analysis"
   ]
  },
  {
   "cell_type": "code",
   "execution_count": 15,
   "metadata": {},
   "outputs": [
    {
     "data": {
      "text/html": [
       "<div>\n",
       "<style scoped>\n",
       "    .dataframe tbody tr th:only-of-type {\n",
       "        vertical-align: middle;\n",
       "    }\n",
       "\n",
       "    .dataframe tbody tr th {\n",
       "        vertical-align: top;\n",
       "    }\n",
       "\n",
       "    .dataframe thead th {\n",
       "        text-align: right;\n",
       "    }\n",
       "</style>\n",
       "<table border=\"1\" class=\"dataframe\">\n",
       "  <thead>\n",
       "    <tr style=\"text-align: right;\">\n",
       "      <th></th>\n",
       "      <th>COMMENT_ID</th>\n",
       "      <th>AUTHOR</th>\n",
       "      <th>DATE</th>\n",
       "      <th>CONTENT</th>\n",
       "      <th>CLASS</th>\n",
       "    </tr>\n",
       "  </thead>\n",
       "  <tbody>\n",
       "    <tr>\n",
       "      <th>0</th>\n",
       "      <td>z13lgffb5w3ddx1ul22qy1wxspy5cpkz504</td>\n",
       "      <td>dharma pal</td>\n",
       "      <td>2015-05-29 02:30:18.971</td>\n",
       "      <td>Nice song﻿</td>\n",
       "      <td>0</td>\n",
       "    </tr>\n",
       "    <tr>\n",
       "      <th>1</th>\n",
       "      <td>z123dbgb0mqjfxbtz22ucjc5jvzcv3ykj</td>\n",
       "      <td>Tiza Arellano</td>\n",
       "      <td>2015-05-29 00:14:48.748</td>\n",
       "      <td>I love song ﻿</td>\n",
       "      <td>0</td>\n",
       "    </tr>\n",
       "    <tr>\n",
       "      <th>2</th>\n",
       "      <td>z12quxxp2vutflkxv04cihggzt2azl34pms0k</td>\n",
       "      <td>Prìñçeśś Âliś Łøvê Dømíñø Mâđiś™ ﻿</td>\n",
       "      <td>2015-05-28 21:00:08.607</td>\n",
       "      <td>I love song ﻿</td>\n",
       "      <td>0</td>\n",
       "    </tr>\n",
       "    <tr>\n",
       "      <th>3</th>\n",
       "      <td>z12icv3ysqvlwth2c23eddlykyqut5z1h</td>\n",
       "      <td>Eric Gonzalez</td>\n",
       "      <td>2015-05-28 20:47:12.193</td>\n",
       "      <td>860,000,000 lets make it first female to reach...</td>\n",
       "      <td>0</td>\n",
       "    </tr>\n",
       "    <tr>\n",
       "      <th>4</th>\n",
       "      <td>z133stly3kete3tly22petvwdpmghrlli</td>\n",
       "      <td>Analena López</td>\n",
       "      <td>2015-05-28 17:08:29.827</td>\n",
       "      <td>shakira is best for worldcup﻿</td>\n",
       "      <td>0</td>\n",
       "    </tr>\n",
       "  </tbody>\n",
       "</table>\n",
       "</div>"
      ],
      "text/plain": [
       "                              COMMENT_ID                              AUTHOR  \\\n",
       "0    z13lgffb5w3ddx1ul22qy1wxspy5cpkz504                          dharma pal   \n",
       "1      z123dbgb0mqjfxbtz22ucjc5jvzcv3ykj                       Tiza Arellano   \n",
       "2  z12quxxp2vutflkxv04cihggzt2azl34pms0k  Prìñçeśś Âliś Łøvê Dømíñø Mâđiś™ ﻿   \n",
       "3      z12icv3ysqvlwth2c23eddlykyqut5z1h                       Eric Gonzalez   \n",
       "4      z133stly3kete3tly22petvwdpmghrlli                       Analena López   \n",
       "\n",
       "                     DATE                                            CONTENT  \\\n",
       "0 2015-05-29 02:30:18.971                                         Nice song﻿   \n",
       "1 2015-05-29 00:14:48.748                                      I love song ﻿   \n",
       "2 2015-05-28 21:00:08.607                                      I love song ﻿   \n",
       "3 2015-05-28 20:47:12.193  860,000,000 lets make it first female to reach...   \n",
       "4 2015-05-28 17:08:29.827                      shakira is best for worldcup﻿   \n",
       "\n",
       "   CLASS  \n",
       "0      0  \n",
       "1      0  \n",
       "2      0  \n",
       "3      0  \n",
       "4      0  "
      ]
     },
     "execution_count": 15,
     "metadata": {},
     "output_type": "execute_result"
    }
   ],
   "source": [
    "nonspam_comments = shakira.loc[(shakira['CLASS'] == 0)]\n",
    "nonspam_comments.head()"
   ]
  },
  {
   "cell_type": "code",
   "execution_count": 16,
   "metadata": {},
   "outputs": [
    {
     "name": "stderr",
     "output_type": "stream",
     "text": [
      "C:\\Users\\Vanessa\\Anaconda3\\lib\\site-packages\\ipykernel_launcher.py:1: SettingWithCopyWarning: \n",
      "A value is trying to be set on a copy of a slice from a DataFrame.\n",
      "Try using .loc[row_indexer,col_indexer] = value instead\n",
      "\n",
      "See the caveats in the documentation: https://pandas.pydata.org/pandas-docs/stable/user_guide/indexing.html#returning-a-view-versus-a-copy\n",
      "  \"\"\"Entry point for launching an IPython kernel.\n"
     ]
    }
   ],
   "source": [
    "nonspam_comments['DATE']=nonspam_comments['DATE'].astype('datetime64[ns]')"
   ]
  },
  {
   "cell_type": "code",
   "execution_count": 17,
   "metadata": {},
   "outputs": [
    {
     "data": {
      "text/html": [
       "<div>\n",
       "<style scoped>\n",
       "    .dataframe tbody tr th:only-of-type {\n",
       "        vertical-align: middle;\n",
       "    }\n",
       "\n",
       "    .dataframe tbody tr th {\n",
       "        vertical-align: top;\n",
       "    }\n",
       "\n",
       "    .dataframe thead th {\n",
       "        text-align: right;\n",
       "    }\n",
       "</style>\n",
       "<table border=\"1\" class=\"dataframe\">\n",
       "  <thead>\n",
       "    <tr style=\"text-align: right;\">\n",
       "      <th></th>\n",
       "      <th>COMMENT_ID</th>\n",
       "      <th>AUTHOR</th>\n",
       "      <th>DATE</th>\n",
       "      <th>CONTENT</th>\n",
       "      <th>CLASS</th>\n",
       "    </tr>\n",
       "  </thead>\n",
       "  <tbody>\n",
       "    <tr>\n",
       "      <th>7</th>\n",
       "      <td>z12uujnj2sifvzvav04chpypvofvexpoggg</td>\n",
       "      <td>Sudheer Yadav</td>\n",
       "      <td>2015-05-28 10:28:25.133</td>\n",
       "      <td>SEE SOME MORE SONG OPEN GOOGLE AND TYPE Shakir...</td>\n",
       "      <td>1</td>\n",
       "    </tr>\n",
       "    <tr>\n",
       "      <th>22</th>\n",
       "      <td>z13zjlpo2nbehxwf322gelhzwmqwgn1mt</td>\n",
       "      <td>Raafat saeed</td>\n",
       "      <td>2015-05-27 04:19:29.178</td>\n",
       "      <td>Check out this playlist on YouTube:﻿</td>\n",
       "      <td>1</td>\n",
       "    </tr>\n",
       "    <tr>\n",
       "      <th>31</th>\n",
       "      <td>z13uhhxp5nvig15yc04citszvtagwtmpqcc</td>\n",
       "      <td>Terry Short</td>\n",
       "      <td>2015-05-26 14:33:52.496</td>\n",
       "      <td>Support the fight for your 4th amendment right...</td>\n",
       "      <td>1</td>\n",
       "    </tr>\n",
       "    <tr>\n",
       "      <th>36</th>\n",
       "      <td>z13gv1bxbuytgjl3o23fdr5r3kaadbbm1</td>\n",
       "      <td>‫حلم الشباب‬‎</td>\n",
       "      <td>2015-05-25 23:42:49.533</td>\n",
       "      <td>Check out this video on YouTube:﻿</td>\n",
       "      <td>1</td>\n",
       "    </tr>\n",
       "    <tr>\n",
       "      <th>51</th>\n",
       "      <td>z12bfraboyajftgbz04ccbkr3xjxfxyxsew</td>\n",
       "      <td>Abdullah Fawzi</td>\n",
       "      <td>2015-05-25 06:25:22.319</td>\n",
       "      <td>coby this USL and past :&lt;br /&gt;&lt;a href=\"http://...</td>\n",
       "      <td>1</td>\n",
       "    </tr>\n",
       "  </tbody>\n",
       "</table>\n",
       "</div>"
      ],
      "text/plain": [
       "                             COMMENT_ID          AUTHOR  \\\n",
       "7   z12uujnj2sifvzvav04chpypvofvexpoggg   Sudheer Yadav   \n",
       "22    z13zjlpo2nbehxwf322gelhzwmqwgn1mt    Raafat saeed   \n",
       "31  z13uhhxp5nvig15yc04citszvtagwtmpqcc     Terry Short   \n",
       "36    z13gv1bxbuytgjl3o23fdr5r3kaadbbm1   ‫حلم الشباب‬‎   \n",
       "51  z12bfraboyajftgbz04ccbkr3xjxfxyxsew  Abdullah Fawzi   \n",
       "\n",
       "                      DATE                                            CONTENT  \\\n",
       "7  2015-05-28 10:28:25.133  SEE SOME MORE SONG OPEN GOOGLE AND TYPE Shakir...   \n",
       "22 2015-05-27 04:19:29.178               Check out this playlist on YouTube:﻿   \n",
       "31 2015-05-26 14:33:52.496  Support the fight for your 4th amendment right...   \n",
       "36 2015-05-25 23:42:49.533                  Check out this video on YouTube:﻿   \n",
       "51 2015-05-25 06:25:22.319  coby this USL and past :<br /><a href=\"http://...   \n",
       "\n",
       "    CLASS  \n",
       "7       1  \n",
       "22      1  \n",
       "31      1  \n",
       "36      1  \n",
       "51      1  "
      ]
     },
     "execution_count": 17,
     "metadata": {},
     "output_type": "execute_result"
    }
   ],
   "source": [
    "spam_comments = shakira.loc[(shakira['CLASS']==1)]\n",
    "spam_comments.head()"
   ]
  },
  {
   "cell_type": "code",
   "execution_count": 18,
   "metadata": {},
   "outputs": [
    {
     "name": "stderr",
     "output_type": "stream",
     "text": [
      "C:\\Users\\Vanessa\\Anaconda3\\lib\\site-packages\\ipykernel_launcher.py:1: SettingWithCopyWarning: \n",
      "A value is trying to be set on a copy of a slice from a DataFrame.\n",
      "Try using .loc[row_indexer,col_indexer] = value instead\n",
      "\n",
      "See the caveats in the documentation: https://pandas.pydata.org/pandas-docs/stable/user_guide/indexing.html#returning-a-view-versus-a-copy\n",
      "  \"\"\"Entry point for launching an IPython kernel.\n"
     ]
    }
   ],
   "source": [
    "spam_comments['DATE']=spam_comments['DATE'].astype('datetime64[ns]')"
   ]
  },
  {
   "cell_type": "markdown",
   "metadata": {},
   "source": [
    "### Content vs Class"
   ]
  },
  {
   "cell_type": "markdown",
   "metadata": {},
   "source": [
    "#### Spam Comments"
   ]
  },
  {
   "cell_type": "code",
   "execution_count": 24,
   "metadata": {},
   "outputs": [
    {
     "name": "stdout",
     "output_type": "stream",
     "text": [
      "see,some,more,song,open,google,and,type,shakira,guruofmovie﻿,check,out,this,playlist,on,youtube﻿,support,the,fight,for,your,4th,amendment,right,to,privacy,in,your,home,stop,the,nsa,spying,on,americans,with,the,un,patriot,act,renewal,rand,paul,has,spent,105,hours,on,the,senate,floor,in,a,protest,and,filibuster,fighting,for,our,constitution,that,this,nation,is,founded,on,join,the,fight,at,rand,paul,dot,com,spread,the,word,we,have,someone,that,cares,about,our,nation,email,your,senators,congress,men,and,women,tell,them,to,support,rand,tell,the,news,to,support,rand,too,senator,rand,paul,was,up,until,a,hrefhttpwwwyoutubecomwatchvprpeedmmmq0ampt1m00s100a,am,this,passed,saturday,morning,fighting,for,our,constitution,buy,postponing,the,vote,until,this,week,our,constitution,matters,join,rand,in,the,fight,to,protect,a,hrefhttpithtithta,to,privacy,in,your,home,and,business,senator,rand,paul,was,up,until,a,hrefhttpwwwyoutubecomwatchvprpeedmmmq0ampt1m00s100a,am,this,passed,saturday,morning,fighting,for,our,constitution,buy,postponing,the,vote,until,this,week,our,constitution,matters,to,all,of,us,help,rand,protect,it,by,joining,the,fright,for,it﻿,check,out,this,video,on,youtube﻿,coby,this,usl,and,past,br,a,hrefhttpadflyhttpadflya,1hmvtxbr,delete,space,after,y﻿,see,thisbr,a,hrefhttpadflyhttpadflya,1hmvtx﻿,thumbs,up,if,your,watching,in,2015﻿,subscribe,me,please,i39ll,promise,i39ll,sub,back﻿,check,out,this,video,on,youtube﻿,my,uncle,said,he,will,stop,smoking,if,this,comment,gets,500,likes,please,like,this,comment,thanks﻿,definitley,the,song,for,2010,when,im,not,listening,to,gypsy,shakira,rocksbr,span,classproflinkwrapperspan,classproflinkprefixspana,classproflink,hrefhttpsplusgooglecom101721377578919894134,oid101721377578919894134shakiravevoaspan﻿,thank,you,please,give,your,email,﻿,fuck,it,was,the,best,ever,0687119038,nummber,of,patrik,kluivert,his,son,share,﻿,yea,stil,the,best,wk,song,everbr,thumbs,up,of,you,think,the,samebr,﻿,subscribe,my,channel,i,recording,fifa,15,goals,watch,now,d﻿,subscribe,to,me,and,i,wil,subscribe,to,you,back﻿,gusttavo,lima,você,não,me,conhece,br,check,out﻿,help,shakira39s,waka,waka,be,the,first,song,by,a,female,artist,to,reach,1,billion,viewsbr,dark,horse,is,ahead,by,roughly,100,million,more,views,and,roar,has,only,50,million,more,viewsbr,a,hrefhttpswwwyoutubecomwatchvprpeedmmmq0httpswwwyoutubecomwatchvprpeedmmmq0a﻿,i,subscribed,itbr,﻿,check,out,this,playlist,on,youtubebr,﻿,top,three,shakira,songs,my,choice,br,br,1,waka,waka,it39s,time,for,africabr,br,2,can39t,remember,to,forget,you,br,br,3,empirebr,br,like,this,comment,if,u,like,shakira,﻿,check,out,this,video,on,youtube﻿,check,out,this,playlist,on,youtubecentral,﻿,if,you,could,take,time,amp,spare,a,min,to,read,this,then,thank,you,br,br,im,a,rapper,if,we39re,gonna,be,honest,theres,thousands,maybe,even,millionsbr,br,of,those,in,the,world,but,not,too,many,with,ambition,dedication,amp,passionbr,br,i,don39t,have,money,for,huge,youtube,advertisements,or,incredible,music,videosbr,br,so,all,im,left,with,is,comments,to,expose,my,musicbr,br,if,you,could,take,a,moment,and,give,me,a,chance,ill,make,you,a,believerbr,br,i,would,love,nothing,more,than,a,loyal,following,on,youtube,for,anyone,who,br,br,reads,this,could,you,press,the,quotthumbs,upquot,others,will,see,itbr,br,doing,so,will,help,me,push,closer,to,my,dream,,thank,you﻿,please,visit,my,channel﻿,pleas,subscribe,my,channel,gamezzmta﻿,pleas,subscribe,my,channel﻿,pleas,subscribe,gamezz,mta,my,channelbr,﻿,cool,song,check,out,my,animal,trafficking,petitionbr,a,hrefhttpwwwthepetitionsitecom387433550stopanimaltraffickingcidheaderclickhttpwwwthepetitionsitecom387433550stopanimaltraffickingcidheaderclicka﻿,check,out,this,video,on,youtube,﻿,subscribe,and,win,a,capbr,,☆☆☆☆☆﻿,check,out,this,playlist,on,youtube﻿,hey,guys,love,this,but,check,out,this,girl,name,cause,she,knows,how,to,dance,so,search,up,ej,ba,dancing﻿,if,you,want,to,win,money,at,hopme,click,here,a,hrefhttpswwwpaidvertscomrefsihaam01httpswwwpaidvertscomrefsihaam01a,it39s,work,100100﻿,i,am,from,brazil,please,subscribe,my,channel,love,you,all﻿,could,spanish,people,understand,thisbr,br,any,way39s,i,how,you,doing,subscribe,to,me,i,brake,thingsbr,br,﻿,pleassssssssssssssss,subscribeeeeeeeeee,my,channnnnnelll,plzz﻿,check,out,this,video,on,youtube﻿,new,way,to,make,money,easily,and,spending,20,minutes,daily,gt,a,hrefhttpswwwpaidvertscomrefmarius1533httpswwwpaidvertscomrefmarius1533a﻿,there,are,beautiful,songs,please,subscribe﻿,can,this,channel,get,500,subscribers,you,can,make,that,happen,d﻿,i,really,love,watching,football,and,also,i’ve,started,off,making,income,with,out,financial,risk,from,acquiring,bonus,deals,it’s,this,weird,technique,where,you,wager,on,something,with,one,bookmakers,and,bet,against,it,on,betfair,you,secure,the,bonus,as,income,,a,chap,named,jim,vanstone,is,finding,the,wagers,free,on,his,own,website,vanstone,secrets,google,it,i’ve,made,about,500,quid,thus,far,and,it,is,costfree,i,guess,the,bookies,pay,him,to,obtain,new,consumers,yet,this,actually,works,and,how,many,subscribers,compared,to,her,over,a,million,i,absolutely,adore,watching,football,plus,i’ve,started,earning,income,with,out,risk,from,claiming,bonus,deals,it’s,a,weird,technique,where,you,put,money,on,something,with,one,bookmakers,and,put,money,against,it,on,betfair,you,acquire,the,bonus,as,income,,a,lad,named,jim,vanstone,is,selecting,the,wagers,free,on,his,website,vanstone,secrets,google,it,i,have,generated,about,600,quid,so,far,and,it’s,free,i,assume,the,bookmakers,pay,him,to,get,new,men,and,women,but,it,succeeds,hahahahah,♥♥♥♥,d,like,vines,,subscribe,to,me,for,daily,vines,hi,there,have,you,heard,about,dribbleproshot,just,do,a,search,on,google,on,their,web,site,you,can,watch,a,smart,free,video,featuring,the,best,way,to,significantly,boost,your,football,aka,soccer,skills,in,no,time,it,turned,nick,into,a,much,better,football,or,soccer,playerhis,team,mates,were,definitily,amazed,i,hope,it,will,help,you,also,hey,have,you,tried,quotdribbleproshotquot,yet,just,do,a,search,on,google,on,their,website,you,will,find,a,useful,free,video,demonstrating,the,right,way,to,enormously,improve,your,soccer,or,football,skills,in,no,time,it,transformed,fausto,into,a,substantially,better,footballsoccer,playerto,the,amazement,of,his,team,mates,hopefully,it,works,for,you,too,still,amazing,this,song,i,did,a,french,kpop,parody,please,come,on,my,channel,to,watch,it,share,suscribe,comment,thanks,subscribe,to,my,feed,d,subscribe,to,me,for,daily,vines,hey,guys,whats,up,i,found,this,app,that,lets,you,get,free,gift,card,vouchers,like,psn,cardsxbox,live,cards,and,even,amazon,gift,cards,for,free,all,you,have,to,do,is,simply,just,download,the,app,from,the,app,store,it,is,called,juno,wallet,all,you,have,to,do,is,just,sign,up,for,the,app,and,then,complete,a,few,surveys,or,just,download,some,other,free,apps,and,you,get,money,like,10,cents,also,if,you,type,in,the,code,im2458444,you,will,also,start,off,with,025,free,you,guys,should,check,out,this,extraordinary,website,called,firepacom,,you,can,make,money,online,and,start,working,from,home,today,as,i,am,i,am,making,over,3000,per,month,at,firepacom,,visit,firepacom,and,check,it,out,lake,,duzafizz,,singlewave,,spourmo,,burder,,colorful,,claster,,incandescent,,ambitious,,winooze,,absorbing,,macabre,,crestboot,,boxium,,womanly,,tan,,ybuwyn,,forgetful,,pepelexa,,zealous,waka,wakad,check,out,my,new,halloween,video,we,are,14,year,old,boys,we,are,trying,to,enter,in,the,music,industry,maybe,we,are,just,a,dreamers,but,we,are,not,the,only,one,please,give,us,one,chance,to,prove,ourself,to,you,we,know,these,things,are,annoying,as,hell,we,are,sorry,about,that,but,we,do,anything,to,get,music,heard,please,visit,our,channel,subscribe,if,you,like,and,thumb,this,comment,up,so,everyone,can,see,we,have,made,a,song,called,i,wanna,play,a,game,please,take,a,look,on,our,channel,thankss,plz,i,wilsubscribe,me,frndzzl,subscribe,u,back,you,guys,should,check,out,this,extraordinary,website,called,moneygqcom,,you,can,make,money,online,and,start,working,from,home,today,as,i,am,i,am,making,over,3000,per,month,at,moneygqcom,,visit,moneygqcom,and,check,it,out,why,does,the,fragile,swim,enlist,the,person,how,does,the,ice,audit,the,frequent,son,the,fantastic,chance,describes,the,rate,subscribe,me,and,i,requite,stop,wasting,up,your,time,and,get,paid,to,mess,around,on,facebook,and,twitter,get,paid,upto,25,to,35,an,hour,only,at,4netjobscom,work,from,the,comfort,of,your,home,we,are,currently,hiring,people,from,all,over,the,world,for,a,wide,range,of,social,media,jobs,on,sites,such,as,facebooktwitter,and,youtube,you,don39t,need,any,prior,skills,or,experience,and,you,can,begin,work,immediately,you,can,easily,make,4000,to,5000,monthly,income…only,at,4netjobscom,i,love,this,this,is,one,of,my,fave,songs,now,and,i,just,subscribed,,,,you,guys,should,check,out,this,extraordinary,website,called,zonepacom,,you,can,make,money,online,and,start,working,from,home,today,as,i,am,i,am,making,over,3000,per,month,at,zonepacom,,visit,zonepacom,and,check,it,out,why,does,the,statement,conciliate,the,acidic,stretch,the,earth,recognizes,the,money,when,does,the,numberless,number,transport,the,trade,how,to,make,a,lot,of,money,fast,visit,quot,ww,estiloproduction,com,quot,best,website,to,make,money,message,,gta,v,20,fifa,14,15,ps4,200,galaxy,s4,mini,250,ipad,4,200,visit,the,site,hhnl,stop,wasting,up,your,time,and,get,paid,to,mess,around,on,facebook,and,twitter,get,paid,upto,25,to,35,an,hour,only,at,4netjobscom,work,from,the,comfort,of,your,home,we,are,currently,hiring,people,from,all,over,the,world,for,a,wide,range,of,social,media,jobs,on,sites,such,as,facebooktwitter,and,youtube,you,don39t,need,any,prior,skills,or,experience,and,you,can,begin,work,immediately,you,can,easily,make,4000,to,5000,monthly,income…only,at,4netjobscom,being,paid,to,respond,to,fast,paid,surveys,from,home,has,enabled,me,to,give,up,working,and,make,more,than,4500,bucks,monthly,to,read,more,go,to,this,web,site,bitly1bsefqe,hello,guysi,found,a,way,to,make,money,online,you,can,get,paid,to,mess,around,on,facebook,and,twitter,get,paid,upto,25,to,35,an,houronly,at,4netjobscom,work,from,the,comfort,of,your,home,they,are,currently,hiring,people,from,all,over,the,world,for,a,wide,range,of,social,media,jobs,on,sites,such,as,facebooktwitter,and,youtube,you,don39t,need,any,prior,skills,or,experience,and,you,can,begin,work,immediately,you,can,easily,make,4000,to,5000,monthly,income…only,at,4netjobscom,you,guys,should,check,out,this,extraordinary,website,called,zonepacom,,you,can,make,money,online,and,start,working,from,home,today,as,i,am,i,am,making,over,3000,per,month,at,zonepacom,,visit,zonepacom,and,check,it,out,the,meat,discusss,the,successful,memory,how,does,the,peaceful,unit,arbitrate,the,guide,the,addition,designs,the,worried,loss,you,guys,should,check,out,this,extraordinary,website,called,zonepacom,,you,can,make,money,online,and,start,working,from,home,today,as,i,am,i,am,making,over,3000,per,month,at,zonepacom,,visit,zonepacom,and,check,it,out,how,does,the,mother,approve,the,axiomatic,insurance,the,fear,appoints,the,roll,when,does,the,space,prepare,the,historical,shame,you,guys,should,check,out,this,extraordinary,website,called,zonepacom,,you,can,make,money,online,and,start,working,from,home,today,as,i,am,i,am,making,over,3000,per,month,at,zonepacom,,visit,zonepacom,and,check,it,out,the,plausible,summer,submits,the,behavior,when,does,the,grass,check,the,peaceful,seat,the,country,strategizes,the,edge,check,out,my,channel,,subscribe,my,hello,guysi,found,a,way,to,make,money,online,you,can,get,paid,to,mess,around,on,facebook,and,twitter,get,paid,upto,25,to,35,an,houronly,at,4netjobscom,work,from,the,comfort,of,your,home,they,are,currently,hiring,people,from,all,over,the,world,for,a,wide,range,of,social,media,jobs,on,sites,such,as,facebooktwitter,and,youtube,you,don39t,need,any,prior,skills,or,experience,and,you,can,begin,work,immediately,you,can,easily,make,4000,to,5000,monthly,income…only,at,4netjobscom,please,visit,this,website,oldchattk,please,visit,this,website,oldchattk,hello,everyone,my,name39s,anderson,and,i39m,a,singer,not,expecting,to,buy,subscribers,with,words,but,to,gain,them,with,my,voice,i,might,not,be,the,best,but,my,voice,is,different,in,a,good,way,and,i39ll,work,harder,than,anyone,out,there,to,get,better,39cuz,quotyeahquot,i,have,a,dream,a,huge,one,who,doesn39t,so,please,take,3,minutes,of,your,time,to,check,out,my,covers,give,me,a,chance,you,won39t,regret,it,if,you,feel,like,subscribing,that39d,be,awesome,and,it39d,mean,the,world,to,me,thank,you,so,much,check,out,daneja,good,girl,hello,guysi,found,a,way,to,make,money,online,you,can,get,paid,to,mess,around,on,facebook,and,twitter,get,paid,upto,25,to,35,an,houronly,at,4netjobscom,work,from,the,comfort,of,your,home,they,are,currently,hiring,people,from,all,over,the,world,for,a,wide,range,of,social,media,jobs,on,sites,such,as,facebooktwitter,and,youtube,you,don39t,need,any,prior,skills,or,experience,and,you,can,begin,work,immediately,you,can,easily,make,4000,to,5000,monthly,income…only,at,4netjobscom,subscribe,to,my,youtube,channel,,suscribite,a,mi,canal,de,youtube,whatuknow,check,out,my,bass,cover,of,hips,don39t,lie,by,shakira,subscribe,to,my,channel,,lt3,the,britishs,called,that,soccer,but,you,know,the,true,word,is,football,and,the,us,foot,is,called,rugby,that,works,like,that,in,euw,,germany,netherland,france,portugal,belgium,spain,,,just,because,the,britishs,don39t,agree,to,be,like,us,because,they,are,unique,that39s,the,reason,why,they,also,refused,to,have,euro,€,as,money,subscribe,now,love,the,song,love,football,1,753,682,421,gangnam,style,,believe,that,jesus,christ,is,your,savior,for,all,your,sins,if,you,truly,believe,in,jesus,christ,to,be,your,savior,for,all,your,sins,then,you,will,go,to,heaven,if,you,believe,in,jesus,christ,then,you,are,saved,and,you,are,in,salvation,and,you,have,gained,god’s,righteousness,it,matters,not,how,much,you,have,sinned,in,the,past,in,the,present,and,especially,in,the,future,believe,that,jesus,christ,is,your,savior,and,you,will,go,to,heaven,forever,and,that,is,the,whole,truth,spread,the,truth,perhaps,you,have,seen,the,newest,miley,cyrus,secret,video,,she39s,sucking,an,old,man39s,cock,,if,you,wish,to,see,her,,check,out,the,celebrity,website,beneath,,mileysecretvideocouk,haha,,miley,cyrus,has,done,it,once,again,today,someone,leeched,a,porno,video,with,her,on,a,celeb,site,i,believe,the,website,link,is,,mileycelebnewscouk,in,case,you,want,to,view,it,i,really,can39t,comprehend,miley,cyrus,,she,actually,is,a,high,profile,and,she,tapes,herself,banging,today,a,video,was,leeched,with,her,sucking,and,fucking,the,video,has,been,posted,at,the,celebrity,website,under,,mileycelebnewscouk,check,out,daneja,good,girl,check,out,my,covers,please,hey,music,fans,i,really,appreciate,any,of,you,who,will,take,the,time,to,read,this,and,check,my,music,out,i39m,just,a,15,year,old,boy,dreaming,of,being,a,successful,musician,in,the,music,world,i,do,lots,of,covers,and,piano,covers,but,i,don39t,have,money,to,advertise,a,simple,thumbs,up,to,my,comment,a,comment,on,my,videos,or,a,subscription,would,be,a,step,forward,it,will,only,be,a,few,seconds,of,your,life,that,you,won39t,regret,thank,u,to,all,the,people,who,just,give,me,a,chance,,echa,un,vistazo,a,la,remezcla,,check,out,the,remix,miley,cyrus,,wrecking,ball,the,house,of,edm,remix,miley,cyrus,,wrecking,ball,vincent,t,remix,click,enlace,suscríbase,,click,link,subscribe,hey,check,out,our,new,musicvideo,3939life39s,a,celebration3939,peace,,hi,check,out,and,share,our,songs,subscribe,amp,like,watchv5tu9gn1l310,watchvdtqcftr1fac,justien,bieber,car,2013,likeampsubscribe,check,out,our,bands,page,on,youtube,killtheclockhd,,check,out,some,of,our,original,songs,including,quotyour,disguisequot,hi,check,out,our,awesome,covers,and,say,what,you,think,i,hope,everyone,is,in,good,spirits,i39m,a,hard,working,student,who39s,also,a,passionate,singer,i,look,foward,to,the,day,when,i,can,make,my,own,music,to,share,but,for,now,i39ve,just,been,doing,covers,check,out,my,channel,i39ve,done,covers,of,miley,cyrus,imagine,dragons,lana,del,rey,drake,macklemore,pink,and,countless,others,subscribe,only,if,you,want,to,my,goal,isn39t,to,become,famous,but,to,inspire,fyi,this,isn39t,spamming,everyone,has,a,right,to,freedom,of,speech,thanks,please,visit,our,web,wellcomemdblogfacom,please,check,out,my,video,called,quotwe,love,mind,master,itquot,thanks,ｈｔｔｐｗｗｗｅｂａｙｃｏｍｕｓｒｓｈｏｅｃｏｌｌｅｃｔｏｒ314,recommend,apple,ipad,4th,gen,32gb,unlocked,wifi4g,97in,white,price390,apple,iphone,5,latest,model,,32gb,,black,price385,samsung,galaxy,s4,s,iv,4,with,16gb,new,white,price360,sony,60inch,3d,led,hdtv,price510,allinone,pcs,apple,macbook,pro,apple,macbook,air,price320,camera,nikon,d90,slr,camera,1855mm,55200mm,32gb,price390,ultrabooks,sony,vaio,pro,13,intel,core,i5,4gb,128gb,price515,,purchase,online,website,is,taaeecom,quothelp,the,humanity,with,your,sign,in,to,this,link,with,your,wholehearted,support,if,you,say,quotnoquot,to,discrimination,“united,we,stand,“,we,will,bring,the,change,together,impossible,itself,says,i,m,possiblequot,you,are,the,winners,of,my,successcheers,to,all,my,loving,brothers,and,sisters,,please,share,this,link,on,facebook,to,support,against,discrimination,tinyurldotcomslashmxh2y77,fear,none,but,god,,part,5,comforter,of,the,afflicted,pray,for,us,help,of,christians,pray,for,us,queen,of,angels,pray,for,us,queen,of,patriarchs,pray,for,us,queen,of,prophets,pray,for,us,queen,of,apostles,pray,for,us,queen,of,martyrs,pray,for,us,queen,of,confessors,pray,for,us,queen,of,virgins,pray,for,us,queen,of,all,saints,pray,for,us,queen,conceived,without,original,sin,pray,for,us,queen,of,the,most,holy,rosary,pray,for,us,queen,of,the,family,pray,for,us,queen,of,peace,pray,for,us,part,2,holy,mary,pray,for,us,holy,mother,of,god,pray,for,us,holy,virgin,of,virgins,pray,for,us,mother,of,christ,pray,for,us,mother,of,divine,grace,pray,for,us,mother,most,pure,pray,for,us,mother,most,chaste,pray,for,us,mother,inviolate,pray,for,us,mother,undefiled,pray,for,us,mother,most,amiable,pray,for,us,mother,most,admirable,pray,for,us,mother,of,good,counsel,pray,for,us,mother,of,our,creator,pray,for,us,mother,of,our,redeemer,pray,for,us,hi,everyone,if,anyone,after,real,online,work,i,can,help,u,earn,lots,of,money,it39s,fun,it39s,real,and,affiliated,company,u,not,think,u,r,working,it39s,easy,and,enjoyable,for,more,info,contact,me,,neeru105,gmailcom,hey,youtubers,and,all,music,lover39s,guess,most,of,you,all,skip,these,comments,but,for,you,who,is,still,reading,this,thanks,,i,dont,have,any,money,for,advertisiments,no,chance,of,getting,heard,nothing,all,that39s,left,is,spam,sorry,im,17,rappersinger,from,estonia,please,listen,my,new,cover,on,my,account,you,wont,regret,it,give,me,just,a,chance,please,take,half,a,second,of,your,life,and,thumb,this,comment,up,it,will,maybe,change,my,life,for,real,thank,you,wafence,do,you,want,to,make,some,easy,money,check,out,my,page,tvcmcadavidweebly,,com,dont,miss,out,on,this,opportunity,give,thumbs,up,i,would,apprecitate,it,please,check,out,this,video,called,quotwe,love,mind,master,itquot,thank,u,,ways,to,make,money,50k,per,month,search,google,now,gtgt,9nlmemakemoneywithoutinvestment1,meet,the,richest,online,marketer,now,click,,bitlymakemoneywithoutadroid,how,did,you,know,that,people,makes,another,account,just,for,subscribing,itself,and,liking,,,i39ll,subscribe,to,you,you,look,nice,,hey,dickwad,,we39re,all,africans,the,colour,of,your,skin,just,tells,us,something,about,how,long,ago,your,ancestors,left,africa,check,out,baba,brinkman,,he,has,a,song,called,quoti39m,a,africanquot,go,learn,something,wow,muslims,are,really,egoistic,23,of,the,world,population,and,not,in,this,video,or,donating,1,dollar,to,the,poor,ones,in,africa,,shame,on,those,terrorist,muslims,wats,good,go,check,out,my,music,on,da,channel,ik,yall,got,me,i,know,y39all,can,check,out,amy,music,because,yall,got,me,go,to,da,channel,northland,paranormal,society,is,now,on,youtube,check,out,our,channel,of,real,paranormal,evidence,facebook,northland,paranormal,society,hello,everyone,,i,know,most,of,you,probably,pass,up,these,kind,of,comments,but,for,those,who,are,still,reading,this,thanks,i,don’t,have,any,money,for,advertisements,no,chance,of,getting,heard,nothing,i,live,in,such,a,small,town,if,this,comes,off,as,spam,sorry,i’m,an,instrumental,songwriter,from,columbus,mississippi,please,go,to,my,channel,and,check,out,my,original,music,it,would,be,highly,appreciated,if,you,thumbs,up,this,comment,so,my,music,can,be,heard,thank,you,adam,whitney,so,then,how,are,you,going,to,call,yourself,a,instrumental,songwriter,if,theres,no,singing,theres,no,song,to,write,lol,you,got,alot,to,learn,kid,but,hey,don39t,forget,to,subscribe,hello,everyone,,i,know,most,of,you,probably,pass,up,these,kind,of,comments,but,for,those,who,are,still,reading,this,thanks,i,don’t,have,any,money,for,advertisements,no,chance,of,getting,heard,nothing,i,live,in,such,a,small,town,if,this,comes,off,as,spam,sorry,i’m,an,instrumental,songwriter,from,columbus,mississippi,please,go,to,my,channel,and,check,out,my,original,music,it,would,be,highly,appreciated,if,you,thumbs,up,this,comment,so,my,music,can,be,heard,thank,you,adam,whitney,please,go,in,and,see,our,channel,and,subscribe,,it,would,be,nice,mate,wanna,earn,money,online,without,investmentjust,visit,this,link,thergloveblogspotin201308blogpost10html,hello,everyone,,i,know,most,of,you,probably,pass,up,these,kind,of,comments,but,for,those,who,are,still,reading,this,thanks,i,don’t,have,any,money,for,advertisements,no,chance,of,getting,heard,nothing,i,live,in,such,a,small,town,if,this,comes,off,as,spam,sorry,i’m,an,instrumental,songwriter,from,columbus,mississippi,please,go,to,my,channel,and,check,out,my,original,music,it,would,be,highly,appreciated,if,you,thumbs,up,this,comment,so,my,music,can,be,heard,thank,you,adam,whitney,check,out,the,dubstep,version,i,can,to,make,money,wanna,laugh,please,subscribe,to,our,channel,earn,money,for,being,online,with,0,efforts,bitly14gkvdo,could,you,please,check,out,my,covers,on,my,channel,i,do,covers,like,adele,kodaline,imagine,dragonsand,more,please,if,you,could,spare,a,few,minutes,could,you,have,a,listen,to,one,or,two,of,my,covers,,feel,free,to,comment,and,subscribe,,thank,you,adfly,kld3y,check,out,these,irish,guys,cover,of,avicii39s,wake,me,up,just,search,quotwake,me,up,fiddle,me,sillyquot,worth,a,listen,for,the,gorgeous,fiddle,player,hello,everyone,,i,know,most,of,you,probably,pass,up,these,kind,of,comments,but,for,those,who,are,still,reading,this,thanks,i,don’t,have,any,money,for,advertisements,no,chance,of,getting,heard,nothing,if,this,comes,off,as,spam,sorry,i,am,a,video,animator,just,trying,to,make,it,up,into,the,video,animation,industry,please,give,me,the,chance,to,prove,myself,to,you,please,visit,my,channel,subscribe,if,you,like,and,thumb,this,comment,up,so,everyone,can,see,thank,you,hello,everyone,,i,know,most,of,you,probably,pass,up,these,kind,of,comments,but,for,those,who,are,still,reading,this,thanks,i,don’t,have,any,money,for,advertisements,no,chance,of,getting,heard,nothing,if,this,comes,off,as,spam,sorry,i,am,a,video,animator,just,trying,to,make,it,up,into,the,video,animation,industry,please,give,me,the,chance,to,prove,myself,to,you,please,visit,my,channel,subscribe,if,you,like,and,thumb,this,comment,up,so,everyone,can,see,thank,you,hey,youtubers,i,really,appreciate,all,of,you,who,took,the,time,to,read,this,i,am,just,a,19,year,old,boy,who,wants,to,be,a,successful,musician,in,the,music,world,i,dont,have,any,money,to,advertise,my,channel,if,you,could,just,visit,my,channel,comment,on,my,video,or,subscribe,that,would,be,great,it,will,only,be,few,seconds,of,your,life,thank,u,to,all,the,people,who,just,gave,me,a,chance,l,really,appreciate,it,subscribe,to,my,pagee,please,please,subscribe,to,my,page,thanks,hey,hit,this,shit,up,while,yall,can,they,killed,the,versace,remix,just,type,in,cge,quotversace,freestyle,get,moneyquot,shot,by,jawan,gardner,and,help,them,reach,1,million,views,hey,guys,and,girls,check,out,comedy,recipe,for,hilarious,you,tube,videos,pranks,and,crank,calls,subscribe,me,i,will,subscribe,you,back,subscribe,me,i,will,subscribe,you,back,please,check,my,channel,out,i,subscribe,back,i,really,ask,nicely,to,view,my,vids,i,subscribe,back,,facebook,is,lame,and,so,2004,check,out,,swagfriends,com,make,thousands,of,cool,new,friends,everyday,join,this,new,movement,hi,check,out,and,share,our,songs,check,out,partyman318,fr,good,tunez,d,hey,youtubers,i,really,appreciate,all,of,you,who,took,the,time,to,read,this,i,am,just,a,19,year,old,boy,who,wants,to,be,a,successful,musician,in,the,music,world,i,dont,have,any,money,to,advertise,my,channel,if,you,could,just,visit,my,channel,comment,on,my,video,or,subscribe,that,would,be,great,it,will,only,be,few,seconds,of,your,life,thank,u,to,all,the,people,who,just,gave,me,a,chance,l,really,appreciate,it,hey,music,fans,i,really,appreciate,any,of,you,who,will,take,the,time,to,read,this,and,check,my,music,out,i39m,just,a,15,year,old,boy,dreaming,of,being,a,successful,musician,in,the,music,world,i,do,lots,of,covers,and,piano,covers,but,i,don39t,have,money,to,advertise,a,simple,thumbs,up,to,my,comment,a,comment,on,my,videos,or,a,subscription,would,be,a,step,forward,it,will,only,be,a,few,seconds,of,your,life,that,you,won39t,regret,thank,u,to,all,the,people,who,just,give,me,a,chance,,hey,music,fans,i,really,appreciate,any,of,you,who,will,take,the,time,to,read,this,and,check,my,music,out,i39m,just,a,15,year,old,boy,dreaming,of,being,a,successful,musician,in,the,music,world,i,do,lots,of,covers,and,piano,covers,but,i,don39t,have,money,to,advertise,a,simple,thumbs,up,to,my,comment,a,comment,on,my,videos,or,a,subscription,would,be,a,step,forward,it,will,only,be,a,few,seconds,of,your,life,that,you,won39t,regret,thank,u,to,all,the,people,who,just,give,me,a,chance,,hey,music,fans,i,really,appreciate,any,of,you,who,will,take,the,time,to,read,this,and,check,my,music,out,i39m,just,a,15,year,old,boy,dreaming,of,being,a,successful,musician,in,the,music,world,i,do,lots,of,covers,and,piano,covers,but,i,don39t,have,money,to,advertise,a,simple,thumbs,up,to,my,comment,a,comment,on,my,videos,or,a,subscription,would,be,a,step,forward,it,will,only,be,a,few,seconds,of,your,life,that,you,won39t,regret,thank,u,to,all,the,people,who,just,give,me,a,chance,,hi,check,out,and,share,our,songs,hi,check,out,and,share,our,songs,hicheck,out,and,share,our,songs,hey,music,fans,i,really,appreciate,any,of,you,who,will,take,the,time,to,read,this,and,check,my,music,out,i39m,just,a,15,year,old,boy,dreaming,of,being,a,successful,musician,in,the,music,world,i,do,lots,of,covers,and,piano,covers,but,i,don39t,have,money,to,advertise,a,simple,thumbs,up,to,my,comment,a,comment,on,my,videos,or,a,subscription,would,be,a,step,forward,it,will,only,be,a,few,seconds,of,your,life,that,you,won39t,regret,thank,u,to,all,the,people,who,just,give,me,a,chance,,hey,i,am,doing,the,forty,hour,famine,so,i39ll,be,giving,up,on,food,and,social,working,for,40,hours,i39m,doing,this,to,raise,money,for,african,people,who,can39t,experience,the,luxuries,that,we,can,so,can,you,donate,to,give,them,a,chance,any,amount,would,do,,click,on,the,link,and,donate,h,t,t,p,,,,4,0,h,f,,c,o,m,,a,u,,a,n,t,h,o,n,y,l,a,m,thanks,,love,itt,and,ppl,check,out,my,channel,subscribe,my,channel,adfly,,kld3y,adfly,,kld3y,check,out,my,new,video,hey,music,fans,i,really,appreciate,all,of,you,who,take,time,to,read,this,and,check,my,music,out,i39m,just,a,15,year,old,boy,dreaming,of,being,a,successful,musician,in,the,music,world,i,do,lots,of,covers,and,piano,covers,but,i,dont,have,money,to,advertise,a,simple,thumbs,up,to,my,comment,a,comment,on,my,videos,or,a,subscription,would,be,a,step,forward,it,will,only,be,a,few,seconds,of,your,life,that,u,won39t,regret,thank,u,to,all,the,people,who,just,give,me,a,chance,it,means,a,lot,,hello,everyone,it,is,not,my,intention,to,spam,and,am,truly,sorry,if,anyone,is,annoyed,by,this,but,just,please,hear,me,out,i,am,a,rapper,singer,music,producer,and,a,song,writer,and,have,been,making,music,for,a,while,now,eight,years,to,be,exact,i,enjoy,making,all,types,of,music,that,anyone,can,listen,to,doesn39t,have,me,talking,about,killing,anyone,and,most,importantly,focuses,on,the,quality,of,the,music,please,check,out,my,page,it39s,only,a,click,away,thank,you,and,have,a,nice,day,,,facebook,is,lame,and,so,2004,check,out,,swagfriends,com,make,thousands,of,cool,new,friends,everyday,join,this,new,movement,please,check,out,and,send,to,others,freedom,and,justice,are,on,the,line,please,google,steven,l,reed,case,lands,in,supreme,courtthanks,nice,to,meet,you,,this,is,johnny,1,if,you,already,know,my,music,,thumb,this,up,because,you,found,it,this,way,too,2,if,you,want,to,hear,original,songs,completely,made,by,1,person,continue,reading,i,sing,write,original,musiclyrics,amp,play,guitar,bass,drums,amp,keyboards,i39m,a,1manband,my,music,is,completely,independent,amp,100,listenersupported,if,you,want,to,hear,it,amp,if,you39re,willing,to,help,record,new,album,,click,on,my,namepicture,enjoy,the,music,,wish,you,awesome,day,hey,you,,check,out,the,channel,of,alvar,lake,,hi,this,is,johnny,1,if,you,already,know,my,music,,thumb,this,up,because,you,found,it,this,way,too,2,if,you,want,to,hear,original,songs,completely,made,by,1,person,continue,reading,i,sing,write,original,musiclyrics,amp,play,guitar,bass,drums,amp,keyboards,i39m,a,1manband,my,music,is,completely,independent,amp,100,listenersupported,if,you,want,to,hear,it,amp,if,you39re,willing,to,help,record,new,album,,click,on,my,namepicture,thank,you,amp,enjoy,the,music,,wish,you,awesome,day,check,out,this,video,on,youtubebr,quotthis,time,for,africaquot,one,for,trayvon,and,our,motherlandbr,thankyou,shakira﻿,o,peoples,of,the,earth,i,have,seen,how,you,perform,every,form,of,evil,at,your,leisure,you,cease,not,from,reveling,in,that,which,i,hate,behold,you,murder,the,innocent,day,and,night,and,plot,evil,against,your,neighbor,you,stand,up,for,the,rights,of,those,who,commit,abomination,and,clap,your,hands,as,wickedness,is,celebrated,openly,in,the,streets,o,most,perverse,and,abominable,generation,shall,i,not,repay,hear,the,word,of,the,lord,,trumpetcallofgodonline,co,m,i,will,never,forget,this,song,in,my,life,like,this,comment,of,your,hearing,this,song,for,like,a,year,omg,facebook,is,old,check,out,gt,swagfriends,com,make,thousands,of,cool,new,friends,everyday,join,the,movement,hey,music,fans,i,really,appreciate,all,of,you,who,take,time,to,read,this,and,check,my,music,out,i39m,just,a,15,year,old,boy,dreaming,of,being,a,successful,musician,in,the,music,world,i,do,lots,of,covers,and,piano,covers,but,i,dont,have,money,to,advertise,a,simple,thumbs,up,to,my,comment,a,comment,on,my,videos,or,a,subscription,would,be,a,step,forward,it,will,only,be,a,few,seconds,of,your,life,that,u,won39t,regret,thank,u,to,all,the,people,who,just,give,me,a,chance,it,means,a,lot,,check,out,my,new,mixtape,check,out,my,new,mixtape,check,out,my,new,mixtape,check,out,my,new,mixtapecheck,out,my,new,mixtape,check,out,my,new,mixtape,check,out,my,new,mixtape,check,out,my,new,mixtapecheck,out,my,new,mixtape,check,out,my,new,mixtape,check,out,my,new,mixtape,check,out,my,new,mixtapecheck,out,my,new,mixtape,check,out,my,new,mixtape,check,out,my,new,mixtape,check,out,my,new,mixtape,check,out,my,new,mixtape,check,out,my,new,mixtape,check,out,my,new,mixtape,check,out,my,new,mixtapecheck,out,my,new,mixtape,check,out,my,new,mixtape,check,out,my,new,mixtape,check,out,my,new,mixtapecheck,out,my,new,mixtape,check,out,my,new,mixtape,check,out,my,new,mixtape,check,out,my,new,mixtapecheck,out,my,new,mixtape,check,out,my,new,mixtape,check,out,my,new,mixtape,check,out,my,new,mixtape,check,out,my,new,mixtape,check,out,my,new,mixtape,check,out,my,new,mixtape,check,out,my,new,mixtapecheck,out,my,new,mixtape,check,out,my,new,mixtape,check,out,my,new,mixtape,check,out,my,new,mixtapecheck,out,my,new,mixtape,check,out,my,new,mixtape,check,out,my,new,mixtape,check,out,my,new,mixtapecheck,out,my,new,mixtape,check,out,my,new,mixtape,check,out,my,new,mixtape,check,out,my,new,mixtape\n"
     ]
    }
   ],
   "source": [
    "#text cleaning on spam comments\n",
    "spam_content = spam_comments['CONTENT'] #pulling comments from the dataframe\n",
    "spam_content = \" \".join(comment for comment in spam_content) #convert to a string object\n",
    "spam_content = spam_content.split() #word tokenization\n",
    "table = str.maketrans('', '', string.punctuation)\n",
    "spam_content = [sc.translate(table) for sc in spam_content] #removing punctuation\n",
    "spam_content = [sc.lower() for sc in spam_content] #converting all text to lowercase\n",
    "spam_content = ','.join(spam_content) #returns to string object\n",
    "print(deEmojify(spam_content)) #removing emojis"
   ]
  },
  {
   "cell_type": "code",
   "execution_count": 25,
   "metadata": {},
   "outputs": [
    {
     "data": {
      "image/png": "[encoded data removed]",
      "text/plain": [
       "<Figure size 432x288 with 1 Axes>"
      ]
     },
     "metadata": {
      "needs_background": "light"
     },
     "output_type": "display_data"
    }
   ],
   "source": [
    "#Building word cloud\n",
    "stopwords = set(STOPWORDS) #remove stop-words\n",
    "wordcloud_spam = WordCloud(max_words=20, \n",
    "                background_color ='white', \n",
    "                stopwords = stopwords).generate(spam_content) \n",
    "plt.imshow(wordcloud_spam) \n",
    "plt.axis(\"off\")\n",
    "plt.show()"
   ]
  },
  {
   "cell_type": "markdown",
   "metadata": {},
   "source": [
    "The top 20 most common words in the spam comments are shown in the word cloud and include: mixtape, check out, subcribe and my music"
   ]
  },
  {
   "cell_type": "markdown",
   "metadata": {},
   "source": [
    "#### Non-Spam Comments"
   ]
  },
  {
   "cell_type": "code",
   "execution_count": 26,
   "metadata": {},
   "outputs": [
    {
     "name": "stdout",
     "output_type": "stream",
     "text": [
      "nice,song﻿,i,love,song,﻿,i,love,song,﻿,860000000,lets,make,it,first,female,to,reach,one,billion,share,it,and,replay,it,﻿,shakira,is,best,for,worldcup﻿,the,best,world,cup,song,ever﻿,i,love﻿,awesome,﻿,i,like,shakira﻿,shakira,,waka,waka,br,love,this,song﻿,why,so,many,disliked﻿,i,don39t,think,this,song,will,ever,get,old,﻿,love,song﻿,wery,good﻿,every,time,i,hear,this,song,i,think,about,iniesta39s,goal,against,the,netherlands﻿,whose,watching,this,in,2015,if,so,hi5﻿,i,love,this,song,so,much,lt3br,keep,em39,coming﻿,i,love,this,song,thumsb,up,to,you﻿,waka,best,one﻿,5,years,later,i,still,love,this,song,br,axy665﻿,like﻿,her,voice,sounds,weird,and,plus,she39s,cute,for,a,blonde﻿,why,there,are,so,many,dislikes,this,song,is,so,awesome,it,sounds,like,we,must,stop,be,racists,if,i,could,i,would,like,it,1000000000,times﻿,nice,love,itttttttt,wurkkkkkkkkkkkkkkkkkkkkkkkkkkkkkkkkkkkkkkkkkkkkkkkkkkkkkkkkkkkkkkkkkkkkkkkkkkkkkkkkkkkkkkkkkkkkkkkkkkkkk﻿,still,watching,in,2015﻿,shakira,is,my,favourite,singer,wooooo﻿,i,remember,this,song,like﻿,whose,who,are,watching,this,in,2015,like﻿,best,song,in,world﻿,beautiful,good,song﻿,she39s,such,an,awesome,entertainer,and,pretty,too,lt3,shakira﻿,love,this,song﻿,love,this,song,my,soccer,team,made,a,cd,for,our,couch,with,this,song,on,it﻿,fave,song﻿,watching,in,2015﻿,i,felt,old,when,i,realized,that,this,song,was,5,years,old﻿,love,shakira﻿,one,of,the,best,song,of,all,the,time﻿,i,really,am,madly,in,love,with,this,woman﻿,i,totally,love,this,song,absolutely,fantastic,i,love,ya,shakira﻿,im,still,watching,in,2015﻿,the,song,is,sad﻿,goood﻿,the,best,fifa,world,cup,song,for,sure﻿,nice,vídeo,shakira,good﻿,waka,waka﻿,she,is,beautiful,but,it,is,not,american﻿,ilovethissong﻿,lamest,world,cup,song,ever,this,time,for,africa,you,mean,in,africa,it,wasn39t,a,live,aid,event,or,something,she,made,it,seem,like,a,charity,case,for,them,instead,of,a,proud,moment,where,was,ricky,martin,when,you,needed,him,smh﻿,my,friend,sam,loves,this,song﻿,i,love,you﻿,to,help,shakira,become,the,first,female,to,hit,1billiom,views,i39ve,decided,to,watch,this,video,at,least,one,a,day,everyday,shakifans,we,r,so,close,just,hit,the,replay,button,﻿,ilove,shakira,﻿,it,was,cool,the,best,song,ever,﻿,omg,listen,to,this,its,soo,good,d﻿,nice,song﻿,waka,waka﻿,super,music﻿,how,could,108k,people,dislike,this,song,or,video﻿,love,it﻿,i,swear,shakira,keeps,getting,more,and,more,gorgeous,she,definitely,looks,more,gorgeous,with,her,hair,this,way,than,super,curly﻿,youtube,comments,be,likebr,this,is,so,5,years,ago,﻿,it,pisses,me,off,a,bit,that,blank,space,has,more,views,868,mio,than,this,meh,﻿,your,the,best♣♥﻿,i,love,you,p﻿,i,love,shakira,,❤﻿,this,song,is,special,because,is,a,song,for,africa,and,i,am,an,african,﻿,lt3,this,song,so,muchshakira,your,a,really,good,artist﻿,i,love,shakirabr,❤❤❤❤﻿,i,remember,that,torunament,like,it,was,today﻿,beautiful﻿,like﻿,shakira,you,are,so,beautiful,you,are,lovely,lively,we,love,you﻿,great﻿,best,world,cup,song﻿,this,song,is,so,beauty,i,heard,this,when,i,was,only,6,years,old,and,i,still,love,it﻿,nice,song﻿,waka,waka﻿,oh,my,god,go,to,1,billion,of,replay,i,love,shakira﻿,i,love,her﻿,i,love,this,song,ampi,love,shakiralt333♡♡♡♡♡♡♡♡♡♡♡《33☆☆☆﻿,i,likedbr,﻿,i,like,this,song,﻿,i,like,it,﻿,waka,waka,﻿,amazing,song﻿,cool,song,﻿,i,love,u,shakira﻿,waka,waka,﻿,this,song,sucks﻿,lol,i,love,this,song﻿,shakira﻿,wow5,yearsbr,﻿,you,best,singer﻿,5,years,soon﻿,like﻿,wanderfol,is,love,or,miusic﻿,waka,waka﻿,best,song,ever,x3333333333﻿,very,pleasant,to,hear,haha,good﻿,love﻿,wow,waka,waka,eh,eh﻿,cutie,girl,and,beautiful,song,love,you,shkira﻿,i,believe,that,soccer,promotes,terrorism,bad,choice,shakira﻿,i,loved,this,song,when,i,was,in,my,teenage,years﻿,lip,synch,is,terrible﻿,shakira,is,different,,she,is,so,happy,all,the,time,and,she,is,spending,for,africa,br,she,can,dance,,sing,and,she,speaks,4,languages﻿,best,world,cup,offical,song﻿,5,years,ago,damn,﻿,very,nice,like,me﻿,shakira,song,waka,waka﻿,so,underrated,betterbr,than,katy,perry,,but,in,not,saying,katy,is,bad,but,she,has,no,meaning,to,her,songs,shakira,hasbr,meaningful,songs,these,are,the,songs,which,bring,memories,and,vibe39s,i,will,miss,it,br,,﻿,i,love,this,song,and,expect,the,world,cup,﻿,good,times,﻿,it,makes,me,happy,instantly,and,makes,me,forgot,everything,bad,happening﻿,love,this,song,so,much,one,of,my,faves,xxx﻿,hi,nice,song,shakira,sorry,for,bad,brazilian﻿,best,song,go,shaki,d﻿,this,is,shit,and,sooooo,autotuned﻿,i,stil,lisening,this,﻿,sexy,shakira﻿,i,love,you,shakiria﻿,me,and,my,aunt,love,this,song﻿,so,beutiful,so,beutiful,she39s,so,pretty,i,like,she,is,perfect,your,a,fucking,bitch,this,song,is,racist,where,are,shakifans,like,i,want,new,song,shakira,is,perfect,shakira,,i,remember,this,d,waka,waka,this,makes,me,miss,the,world,cup,best,song,eva,i,love,it,her,voice,is,so,wow,shakira,,,wow,i,love,you,i,like,and,love,so,much,people,all,friends,i,love,shakira,,,shakira,i,love,you,beautiful,shakira,is,very,beautiful,she,is,good,god,she,is,so,hot,she,is,perfect,lt3,wow,shakira,voice,sound,spanish,but,that,is,what,make,the,music,sound,amazing,♥i,love,it,she,is,perfect,beautiful,song,beautiful,girl,it,works,shakira,,omg,love,this,ouf,ouf,ouffffffffffffffffff,,awesome,cool,this,song,will,never,get,old,i,always,have,goose,bumps,at,that,part,love,it,i,love,this,song,i,want,to,see,shakira,not,football,,good,nice,song,,god,she,is,so,sexy,drives,me,crazy,wow,shakira,is,the,best,nice,shakira,shakira,,the,best,wow,love,this,song,love,this,song,,i,watched,this,because,of,the,large,amount,of,views,and,now,i,am,convinced,it,is,because,that,girl,is,so,hot,this,song,always,gives,me,chills,,i,love,dis,song,3,waka,waka,she,rules,she,is,sooooo,beautiful,well,done,shakira,i,love,this,song,because,we,sing,it,at,camp,all,the,time,i,love,this,song,for,two,reasons,1it,is,about,africa,2i,was,born,in,beautiful,south,africa,wow,shakira,u,are,so,wiredo,shakira,is,the,best,dancer\n"
     ]
    },
    {
     "data": {
      "text/plain": [
       "'nice,song\\ufeff,i,love,song,\\ufeff,i,love,song,\\ufeff,860000000,lets,make,it,first,female,to,reach,one,billion,shar'"
      ]
     },
     "execution_count": 26,
     "metadata": {},
     "output_type": "execute_result"
    }
   ],
   "source": [
    "#text cleaning on non-spam comments\n",
    "nonspam_content = nonspam_comments['CONTENT'] #pulling non-spam comments from dataframe\n",
    "nonspam_content = \" \".join(comment for comment in nonspam_content) #convert to a string object\n",
    "nonspam_content = nonspam_content.split() #word tokenization\n",
    "nonspam_content = [nsc.translate(table) for nsc in nonspam_content] #removing punctuation\n",
    "nonspam_content = [nsc.lower() for nsc in nonspam_content] #converting all text to lowercase\n",
    "nonspam_content = ','.join(nonspam_content) #returns to string object\n",
    "print(deEmojify(nonspam_content)) #removing emojis\n",
    "nonspam_content[:100]"
   ]
  },
  {
   "cell_type": "code",
   "execution_count": 50,
   "metadata": {},
   "outputs": [
    {
     "data": {
      "image/png": "[encoded data removed]",
      "text/plain": [
       "<Figure size 432x288 with 1 Axes>"
      ]
     },
     "metadata": {
      "needs_background": "light"
     },
     "output_type": "display_data"
    }
   ],
   "source": [
    "stopwords = set(STOPWORDS)\n",
    "wordcloud_nonspam = WordCloud(max_words=20, \n",
    "                background_color ='white', \n",
    "                stopwords = stopwords).generate(nonspam_content) \n",
    "plt.imshow(wordcloud_nonspam) \n",
    "plt.axis(\"off\")\n",
    "plt.show()"
   ]
  },
  {
   "cell_type": "markdown",
   "metadata": {},
   "source": [
    "For non-spam comments, the words/phrases used are related to the video like the name of the artist, the name of the song or the users personal thoughts on the song/video. The most frequently used words include: Shakira, love, song and beautiful. "
   ]
  },
  {
   "cell_type": "markdown",
   "metadata": {},
   "source": [
    "### Author vs Class"
   ]
  },
  {
   "cell_type": "markdown",
   "metadata": {},
   "source": [
    "#### Spam Comments"
   ]
  },
  {
   "cell_type": "code",
   "execution_count": 94,
   "metadata": {},
   "outputs": [
    {
     "data": {
      "text/plain": [
       "Shadrach Grentz     7\n",
       "Hidden Love         5\n",
       "James Cook          4\n",
       "Louis Bryant        3\n",
       "ricky swaggz        3\n",
       "                   ..\n",
       "nosa bella          1\n",
       "Free Video Tv       1\n",
       "dili bair           1\n",
       "Charanjeet Singh    1\n",
       "Scott Johnson       1\n",
       "Name: AUTHOR, Length: 135, dtype: int64"
      ]
     },
     "execution_count": 94,
     "metadata": {},
     "output_type": "execute_result"
    }
   ],
   "source": [
    "spam_comments['AUTHOR'].value_counts()"
   ]
  },
  {
   "cell_type": "code",
   "execution_count": 97,
   "metadata": {},
   "outputs": [
    {
     "data": {
      "text/plain": [
       "<AxesSubplot:xlabel='count', ylabel='AUTHOR'>"
      ]
     },
     "execution_count": 97,
     "metadata": {},
     "output_type": "execute_result"
    },
    {
     "data": {
      "image/png": "[encoded data removed]",
      "text/plain": [
       "<Figure size 432x288 with 1 Axes>"
      ]
     },
     "metadata": {
      "needs_background": "light"
     },
     "output_type": "display_data"
    }
   ],
   "source": [
    "sns.countplot(y='AUTHOR', data=spam_comments,\n",
    "              order=spam_comments.AUTHOR.value_counts().iloc[:11].index)"
   ]
  },
  {
   "cell_type": "code",
   "execution_count": 62,
   "metadata": {},
   "outputs": [
    {
     "data": {
      "text/html": [
       "<div>\n",
       "<style scoped>\n",
       "    .dataframe tbody tr th:only-of-type {\n",
       "        vertical-align: middle;\n",
       "    }\n",
       "\n",
       "    .dataframe tbody tr th {\n",
       "        vertical-align: top;\n",
       "    }\n",
       "\n",
       "    .dataframe thead th {\n",
       "        text-align: right;\n",
       "    }\n",
       "</style>\n",
       "<table border=\"1\" class=\"dataframe\">\n",
       "  <thead>\n",
       "    <tr style=\"text-align: right;\">\n",
       "      <th></th>\n",
       "      <th>COMMENT_ID</th>\n",
       "      <th>AUTHOR</th>\n",
       "      <th>DATE</th>\n",
       "      <th>CONTENT</th>\n",
       "      <th>CLASS</th>\n",
       "    </tr>\n",
       "  </thead>\n",
       "  <tbody>\n",
       "    <tr>\n",
       "      <th>250</th>\n",
       "      <td>_2viQ_Qnc68dceJbTRNTP2sksMxa_lm35LaCu_jPluY</td>\n",
       "      <td>Shadrach Grentz</td>\n",
       "      <td>2013-09-29 13:59:42.162</td>\n",
       "      <td>Hey Music Fans I really appreciate any of you ...</td>\n",
       "      <td>1</td>\n",
       "    </tr>\n",
       "    <tr>\n",
       "      <th>328</th>\n",
       "      <td>_2viQ_Qnc69zyetF6GsHRzYGyXl4u5kg0Sm-nP-pupI</td>\n",
       "      <td>Shadrach Grentz</td>\n",
       "      <td>2013-08-02 03:15:46.914</td>\n",
       "      <td>Hey Music Fans I really appreciate any of you ...</td>\n",
       "      <td>1</td>\n",
       "    </tr>\n",
       "    <tr>\n",
       "      <th>329</th>\n",
       "      <td>_2viQ_Qnc699u36gNm3NRoq1quIaJWRNrftGEEZM3J4</td>\n",
       "      <td>Shadrach Grentz</td>\n",
       "      <td>2013-08-01 21:43:52.122</td>\n",
       "      <td>Hey Music Fans I really appreciate any of you ...</td>\n",
       "      <td>1</td>\n",
       "    </tr>\n",
       "    <tr>\n",
       "      <th>330</th>\n",
       "      <td>_2viQ_Qnc68LqKGb40V2ImKQYcp1ZqpHrCCMFqMCcA4</td>\n",
       "      <td>Shadrach Grentz</td>\n",
       "      <td>2013-08-01 20:39:15.325</td>\n",
       "      <td>Hey Music Fans I really appreciate any of you ...</td>\n",
       "      <td>1</td>\n",
       "    </tr>\n",
       "    <tr>\n",
       "      <th>334</th>\n",
       "      <td>_2viQ_Qnc69Nq0Ytk1jCpzWPCrpGEk6T7cdVAxfSlAk</td>\n",
       "      <td>Shadrach Grentz</td>\n",
       "      <td>2013-07-29 17:39:24.876</td>\n",
       "      <td>Hey Music Fans I really appreciate any of you ...</td>\n",
       "      <td>1</td>\n",
       "    </tr>\n",
       "    <tr>\n",
       "      <th>341</th>\n",
       "      <td>_2viQ_Qnc6_YN7xFNAg14zX99Y614Salf57yOcrBRSw</td>\n",
       "      <td>Shadrach Grentz</td>\n",
       "      <td>2013-07-21 12:21:37.898</td>\n",
       "      <td>Hey Music Fans I really appreciate all of you ...</td>\n",
       "      <td>1</td>\n",
       "    </tr>\n",
       "    <tr>\n",
       "      <th>358</th>\n",
       "      <td>_2viQ_Qnc6-jk58CPwBnqfbM6oByJH5oPvCtKecLQyo</td>\n",
       "      <td>Shadrach Grentz</td>\n",
       "      <td>2013-07-14 03:11:20.243</td>\n",
       "      <td>Hey Music Fans I really appreciate all of you ...</td>\n",
       "      <td>1</td>\n",
       "    </tr>\n",
       "  </tbody>\n",
       "</table>\n",
       "</div>"
      ],
      "text/plain": [
       "                                      COMMENT_ID           AUTHOR  \\\n",
       "250  _2viQ_Qnc68dceJbTRNTP2sksMxa_lm35LaCu_jPluY  Shadrach Grentz   \n",
       "328  _2viQ_Qnc69zyetF6GsHRzYGyXl4u5kg0Sm-nP-pupI  Shadrach Grentz   \n",
       "329  _2viQ_Qnc699u36gNm3NRoq1quIaJWRNrftGEEZM3J4  Shadrach Grentz   \n",
       "330  _2viQ_Qnc68LqKGb40V2ImKQYcp1ZqpHrCCMFqMCcA4  Shadrach Grentz   \n",
       "334  _2viQ_Qnc69Nq0Ytk1jCpzWPCrpGEk6T7cdVAxfSlAk  Shadrach Grentz   \n",
       "341  _2viQ_Qnc6_YN7xFNAg14zX99Y614Salf57yOcrBRSw  Shadrach Grentz   \n",
       "358  _2viQ_Qnc6-jk58CPwBnqfbM6oByJH5oPvCtKecLQyo  Shadrach Grentz   \n",
       "\n",
       "                       DATE  \\\n",
       "250 2013-09-29 13:59:42.162   \n",
       "328 2013-08-02 03:15:46.914   \n",
       "329 2013-08-01 21:43:52.122   \n",
       "330 2013-08-01 20:39:15.325   \n",
       "334 2013-07-29 17:39:24.876   \n",
       "341 2013-07-21 12:21:37.898   \n",
       "358 2013-07-14 03:11:20.243   \n",
       "\n",
       "                                               CONTENT  CLASS  \n",
       "250  Hey Music Fans I really appreciate any of you ...      1  \n",
       "328  Hey Music Fans I really appreciate any of you ...      1  \n",
       "329  Hey Music Fans I really appreciate any of you ...      1  \n",
       "330  Hey Music Fans I really appreciate any of you ...      1  \n",
       "334  Hey Music Fans I really appreciate any of you ...      1  \n",
       "341  Hey Music Fans I really appreciate all of you ...      1  \n",
       "358  Hey Music Fans I really appreciate all of you ...      1  "
      ]
     },
     "execution_count": 62,
     "metadata": {},
     "output_type": "execute_result"
    }
   ],
   "source": [
    "spam_comments.loc[(spam_comments['AUTHOR']=='Shadrach Grentz')]"
   ]
  },
  {
   "cell_type": "code",
   "execution_count": 63,
   "metadata": {},
   "outputs": [
    {
     "data": {
      "text/html": [
       "<div>\n",
       "<style scoped>\n",
       "    .dataframe tbody tr th:only-of-type {\n",
       "        vertical-align: middle;\n",
       "    }\n",
       "\n",
       "    .dataframe tbody tr th {\n",
       "        vertical-align: top;\n",
       "    }\n",
       "\n",
       "    .dataframe thead th {\n",
       "        text-align: right;\n",
       "    }\n",
       "</style>\n",
       "<table border=\"1\" class=\"dataframe\">\n",
       "  <thead>\n",
       "    <tr style=\"text-align: right;\">\n",
       "      <th></th>\n",
       "      <th>COMMENT_ID</th>\n",
       "      <th>AUTHOR</th>\n",
       "      <th>DATE</th>\n",
       "      <th>CONTENT</th>\n",
       "      <th>CLASS</th>\n",
       "    </tr>\n",
       "  </thead>\n",
       "  <tbody>\n",
       "    <tr>\n",
       "      <th>253</th>\n",
       "      <td>_2viQ_Qnc6_onwOgxju-DV6WkqHZEOztCXD04EgEFBU</td>\n",
       "      <td>Hidden Love</td>\n",
       "      <td>2013-09-24 14:29:54.072</td>\n",
       "      <td>Hi. Check out and share our songs.</td>\n",
       "      <td>1</td>\n",
       "    </tr>\n",
       "    <tr>\n",
       "      <th>325</th>\n",
       "      <td>_2viQ_Qnc69r15LuL8TDbisnTJ_hf5RfcyJAyoMC5eo</td>\n",
       "      <td>Hidden Love</td>\n",
       "      <td>2013-08-06 11:40:05.581</td>\n",
       "      <td>Hi. Check out and share our songs.</td>\n",
       "      <td>1</td>\n",
       "    </tr>\n",
       "    <tr>\n",
       "      <th>331</th>\n",
       "      <td>_2viQ_Qnc68Qq98m0mmx4rlprYiD6aYgMb2x3bdupEM</td>\n",
       "      <td>Hidden Love</td>\n",
       "      <td>2013-08-01 09:19:56.654</td>\n",
       "      <td>Hi. Check out and share our songs.</td>\n",
       "      <td>1</td>\n",
       "    </tr>\n",
       "    <tr>\n",
       "      <th>332</th>\n",
       "      <td>_2viQ_Qnc698fLCQzZmRt1CqPhf0L6mchwWG5gsUlzk</td>\n",
       "      <td>Hidden Love</td>\n",
       "      <td>2013-07-31 10:22:02.628</td>\n",
       "      <td>Hi. Check out and share our songs.</td>\n",
       "      <td>1</td>\n",
       "    </tr>\n",
       "    <tr>\n",
       "      <th>333</th>\n",
       "      <td>_2viQ_Qnc68sxLpsBQ1cPk_LLH91SMsRav51KmhIoQw</td>\n",
       "      <td>Hidden Love</td>\n",
       "      <td>2013-07-30 11:22:57.091</td>\n",
       "      <td>Hi.Check out and share our songs.</td>\n",
       "      <td>1</td>\n",
       "    </tr>\n",
       "  </tbody>\n",
       "</table>\n",
       "</div>"
      ],
      "text/plain": [
       "                                      COMMENT_ID       AUTHOR  \\\n",
       "253  _2viQ_Qnc6_onwOgxju-DV6WkqHZEOztCXD04EgEFBU  Hidden Love   \n",
       "325  _2viQ_Qnc69r15LuL8TDbisnTJ_hf5RfcyJAyoMC5eo  Hidden Love   \n",
       "331  _2viQ_Qnc68Qq98m0mmx4rlprYiD6aYgMb2x3bdupEM  Hidden Love   \n",
       "332  _2viQ_Qnc698fLCQzZmRt1CqPhf0L6mchwWG5gsUlzk  Hidden Love   \n",
       "333  _2viQ_Qnc68sxLpsBQ1cPk_LLH91SMsRav51KmhIoQw  Hidden Love   \n",
       "\n",
       "                       DATE                             CONTENT  CLASS  \n",
       "253 2013-09-24 14:29:54.072  Hi. Check out and share our songs.      1  \n",
       "325 2013-08-06 11:40:05.581  Hi. Check out and share our songs.      1  \n",
       "331 2013-08-01 09:19:56.654  Hi. Check out and share our songs.      1  \n",
       "332 2013-07-31 10:22:02.628  Hi. Check out and share our songs.      1  \n",
       "333 2013-07-30 11:22:57.091   Hi.Check out and share our songs.      1  "
      ]
     },
     "execution_count": 63,
     "metadata": {},
     "output_type": "execute_result"
    }
   ],
   "source": [
    "spam_comments.loc[(spam_comments['AUTHOR']=='Hidden Love')]"
   ]
  },
  {
   "cell_type": "code",
   "execution_count": 64,
   "metadata": {},
   "outputs": [
    {
     "data": {
      "text/html": [
       "<div>\n",
       "<style scoped>\n",
       "    .dataframe tbody tr th:only-of-type {\n",
       "        vertical-align: middle;\n",
       "    }\n",
       "\n",
       "    .dataframe tbody tr th {\n",
       "        vertical-align: top;\n",
       "    }\n",
       "\n",
       "    .dataframe thead th {\n",
       "        text-align: right;\n",
       "    }\n",
       "</style>\n",
       "<table border=\"1\" class=\"dataframe\">\n",
       "  <thead>\n",
       "    <tr style=\"text-align: right;\">\n",
       "      <th></th>\n",
       "      <th>COMMENT_ID</th>\n",
       "      <th>AUTHOR</th>\n",
       "      <th>DATE</th>\n",
       "      <th>CONTENT</th>\n",
       "      <th>CLASS</th>\n",
       "    </tr>\n",
       "  </thead>\n",
       "  <tbody>\n",
       "    <tr>\n",
       "      <th>186</th>\n",
       "      <td>_2viQ_Qnc69ShtSmsaBOGFHrTAVCkLAtpOr40oiL5Yg</td>\n",
       "      <td>James Cook</td>\n",
       "      <td>2013-10-20 13:31:10.083</td>\n",
       "      <td>Stop Wasting Up Your Time and  Get Paid To Mes...</td>\n",
       "      <td>1</td>\n",
       "    </tr>\n",
       "    <tr>\n",
       "      <th>192</th>\n",
       "      <td>_2viQ_Qnc68eqIzELH00rh9umGlUKSRuQvWZAXhr_qM</td>\n",
       "      <td>James Cook</td>\n",
       "      <td>2013-10-15 17:00:04.573</td>\n",
       "      <td>Stop Wasting Up Your Time and  Get Paid To Mes...</td>\n",
       "      <td>1</td>\n",
       "    </tr>\n",
       "    <tr>\n",
       "      <th>194</th>\n",
       "      <td>_2viQ_Qnc6-grcnVFTtwnhvC9tpgVG33p5a0AZHKlLI</td>\n",
       "      <td>James Cook</td>\n",
       "      <td>2013-10-14 10:35:03.861</td>\n",
       "      <td>Hello Guys...I Found a Way to Make Money Onlin...</td>\n",
       "      <td>1</td>\n",
       "    </tr>\n",
       "    <tr>\n",
       "      <th>200</th>\n",
       "      <td>_2viQ_Qnc69BVRuBYCJ6ik7gdMwTiBRS9DDnTjNs-Gg</td>\n",
       "      <td>James Cook</td>\n",
       "      <td>2013-10-10 18:08:07.815</td>\n",
       "      <td>Hello Guys...I Found a Way to Make Money Onlin...</td>\n",
       "      <td>1</td>\n",
       "    </tr>\n",
       "  </tbody>\n",
       "</table>\n",
       "</div>"
      ],
      "text/plain": [
       "                                      COMMENT_ID      AUTHOR  \\\n",
       "186  _2viQ_Qnc69ShtSmsaBOGFHrTAVCkLAtpOr40oiL5Yg  James Cook   \n",
       "192  _2viQ_Qnc68eqIzELH00rh9umGlUKSRuQvWZAXhr_qM  James Cook   \n",
       "194  _2viQ_Qnc6-grcnVFTtwnhvC9tpgVG33p5a0AZHKlLI  James Cook   \n",
       "200  _2viQ_Qnc69BVRuBYCJ6ik7gdMwTiBRS9DDnTjNs-Gg  James Cook   \n",
       "\n",
       "                       DATE  \\\n",
       "186 2013-10-20 13:31:10.083   \n",
       "192 2013-10-15 17:00:04.573   \n",
       "194 2013-10-14 10:35:03.861   \n",
       "200 2013-10-10 18:08:07.815   \n",
       "\n",
       "                                               CONTENT  CLASS  \n",
       "186  Stop Wasting Up Your Time and  Get Paid To Mes...      1  \n",
       "192  Stop Wasting Up Your Time and  Get Paid To Mes...      1  \n",
       "194  Hello Guys...I Found a Way to Make Money Onlin...      1  \n",
       "200  Hello Guys...I Found a Way to Make Money Onlin...      1  "
      ]
     },
     "execution_count": 64,
     "metadata": {},
     "output_type": "execute_result"
    }
   ],
   "source": [
    "spam_comments.loc[(spam_comments['AUTHOR']=='James Cook')]"
   ]
  },
  {
   "cell_type": "markdown",
   "metadata": {},
   "source": [
    "The top 3 of the spam comment authors post comments directing users to check out their own music or about making money online. They each also post the exact same comment over and over again at different times and on different days."
   ]
  },
  {
   "cell_type": "markdown",
   "metadata": {},
   "source": [
    "#### Non-Spam Comments"
   ]
  },
  {
   "cell_type": "code",
   "execution_count": 99,
   "metadata": {},
   "outputs": [
    {
     "data": {
      "text/plain": [
       "5000palo                7\n",
       "LaiLa Steudle           2\n",
       "Eric Gonzalez           2\n",
       "LiveLikeLien x          2\n",
       "Alain Bruno             2\n",
       "                       ..\n",
       "Sabina Pearson-Smith    1\n",
       "Aishlin Maciel          1\n",
       "Nimesh Nambiar          1\n",
       "Mohammed Yousef         1\n",
       "ranferi delgado         1\n",
       "Name: AUTHOR, Length: 184, dtype: int64"
      ]
     },
     "execution_count": 99,
     "metadata": {},
     "output_type": "execute_result"
    }
   ],
   "source": [
    "nonspam_comments['AUTHOR'].value_counts()"
   ]
  },
  {
   "cell_type": "code",
   "execution_count": 65,
   "metadata": {},
   "outputs": [
    {
     "data": {
      "text/plain": [
       "<AxesSubplot:xlabel='count', ylabel='AUTHOR'>"
      ]
     },
     "execution_count": 65,
     "metadata": {},
     "output_type": "execute_result"
    },
    {
     "data": {
      "image/png": "[encoded data removed]",
      "text/plain": [
       "<Figure size 432x288 with 1 Axes>"
      ]
     },
     "metadata": {
      "needs_background": "light"
     },
     "output_type": "display_data"
    }
   ],
   "source": [
    "sns.countplot(y='AUTHOR', data=nonspam_comments,\n",
    "              order=nonspam_comments.AUTHOR.value_counts().iloc[:11].index)"
   ]
  },
  {
   "cell_type": "code",
   "execution_count": 70,
   "metadata": {},
   "outputs": [
    {
     "data": {
      "text/plain": [
       "215     She is perfect\n",
       "221    I want new song\n",
       "223        Shakira :-*\n",
       "234        Shakira :-*\n",
       "261     She is perfect\n",
       "264        Shakira :-*\n",
       "286        Shakira :-*\n",
       "Name: CONTENT, dtype: object"
      ]
     },
     "execution_count": 70,
     "metadata": {},
     "output_type": "execute_result"
    }
   ],
   "source": [
    "nonspam_comments.loc[(nonspam_comments['AUTHOR']=='5000palo')]['CONTENT'][:50]"
   ]
  },
  {
   "cell_type": "code",
   "execution_count": 73,
   "metadata": {},
   "outputs": [
    {
     "data": {
      "text/plain": [
       "145             I love you Shakiria!!!!!!﻿\n",
       "146    Me and my aunt love this song!!!!!﻿\n",
       "Name: CONTENT, dtype: object"
      ]
     },
     "execution_count": 73,
     "metadata": {},
     "output_type": "execute_result"
    }
   ],
   "source": [
    "nonspam_comments.loc[(nonspam_comments['AUTHOR']=='LaiLa Steudle')]['CONTENT'][:50]"
   ]
  },
  {
   "cell_type": "markdown",
   "metadata": {},
   "source": [
    "One the other hand the non-spam users post comments related to the song or video and about their love for the artist. Also, leaving more than 2 comments is considered an outlier."
   ]
  },
  {
   "cell_type": "markdown",
   "metadata": {},
   "source": [
    "### Comment Length vs Class "
   ]
  },
  {
   "cell_type": "markdown",
   "metadata": {},
   "source": [
    "#### Spam Comments"
   ]
  },
  {
   "cell_type": "code",
   "execution_count": 11,
   "metadata": {},
   "outputs": [
    {
     "data": {
      "text/plain": [
       "Text(0.5, 1.0, 'Distribution of Spam Comment Length')"
      ]
     },
     "execution_count": 11,
     "metadata": {},
     "output_type": "execute_result"
    },
    {
     "data": {
      "image/png": "[encoded data removed]",
      "text/plain": [
       "<Figure size 432x288 with 1 Axes>"
      ]
     },
     "metadata": {
      "needs_background": "light"
     },
     "output_type": "display_data"
    }
   ],
   "source": [
    "spam_comments['CONTENT_LENGTH'].hist(bins=20)\n",
    "plt.title('Distribution of Spam Comment Length')"
   ]
  },
  {
   "cell_type": "code",
   "execution_count": 12,
   "metadata": {},
   "outputs": [
    {
     "name": "stdout",
     "output_type": "stream",
     "text": [
      "Average Comment Length: 196.33908045977012\n",
      "Minimum Comment Length: 13\n",
      "Maximum Comment Length: 1125\n"
     ]
    }
   ],
   "source": [
    "print(\"Average Comment Length:\",spam_comments['CONTENT_LENGTH'].mean())\n",
    "print(\"Minimum Comment Length:\",spam_comments['CONTENT_LENGTH'].min())\n",
    "print(\"Maximum Comment Length:\",spam_comments['CONTENT_LENGTH'].max())"
   ]
  },
  {
   "cell_type": "markdown",
   "metadata": {},
   "source": [
    "#### Non-Spam Comments"
   ]
  },
  {
   "cell_type": "code",
   "execution_count": 13,
   "metadata": {},
   "outputs": [
    {
     "data": {
      "text/plain": [
       "Text(0.5, 1.0, 'Distribution of Non-Spam Comment Length')"
      ]
     },
     "execution_count": 13,
     "metadata": {},
     "output_type": "execute_result"
    },
    {
     "data": {
      "image/png": "[encoded data removed]",
      "text/plain": [
       "<Figure size 432x288 with 1 Axes>"
      ]
     },
     "metadata": {
      "needs_background": "light"
     },
     "output_type": "display_data"
    }
   ],
   "source": [
    "nonspam_comments['CONTENT_LENGTH'].hist(bins=20)\n",
    "plt.title('Distribution of Non-Spam Comment Length')"
   ]
  },
  {
   "cell_type": "code",
   "execution_count": 14,
   "metadata": {},
   "outputs": [
    {
     "name": "stdout",
     "output_type": "stream",
     "text": [
      "Average Comment Length: 31.321428571428573\n",
      "Minimum Comment Length: 2\n",
      "Maximum Comment Length: 236\n"
     ]
    }
   ],
   "source": [
    "print(\"Average Comment Length:\",nonspam_comments['CONTENT_LENGTH'].mean())\n",
    "print(\"Minimum Comment Length:\",nonspam_comments['CONTENT_LENGTH'].min())\n",
    "print(\"Maximum Comment Length:\",nonspam_comments['CONTENT_LENGTH'].max())"
   ]
  },
  {
   "cell_type": "markdown",
   "metadata": {},
   "source": [
    "Most users leave short comments, however based on the average, minimum and maximum comment length along with the second peak that appears around 450-500 words, spam comments do seem to be longer than non-spam."
   ]
  }
 ],
 "metadata": {
  "kernelspec": {
   "display_name": "Python 3",
   "language": "python",
   "name": "python3"
  },
  "language_info": {
   "codemirror_mode": {
    "name": "ipython",
    "version": 3
   },
   "file_extension": ".py",
   "mimetype": "text/x-python",
   "name": "python",
   "nbconvert_exporter": "python",
   "pygments_lexer": "ipython3",
   "version": "3.7.1"
  }
 },
 "nbformat": 4,
 "nbformat_minor": 4
}
